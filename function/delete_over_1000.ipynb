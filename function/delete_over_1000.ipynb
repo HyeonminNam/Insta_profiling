{
 "metadata": {
  "language_info": {
   "codemirror_mode": {
    "name": "ipython",
    "version": 3
   },
   "file_extension": ".py",
   "mimetype": "text/x-python",
   "name": "python",
   "nbconvert_exporter": "python",
   "pygments_lexer": "ipython3",
   "version": "3.7.6-final"
  },
  "orig_nbformat": 2,
  "kernelspec": {
   "name": "python3",
   "display_name": "Python 3"
  }
 },
 "nbformat": 4,
 "nbformat_minor": 2,
 "cells": [
  {
   "cell_type": "code",
   "execution_count": 71,
   "metadata": {},
   "outputs": [],
   "source": [
    "import pandas as pd"
   ]
  },
  {
   "cell_type": "code",
   "execution_count": 72,
   "metadata": {},
   "outputs": [],
   "source": [
    "# 지역_delete 지역 경로 설정\n",
    "df = pd.read_csv('/Users/gyumyung/Documents/Insta_profiling/spider/insta_crawling/gs_delete.csv', index_col =[0])\n",
    "df.reset_index(inplace=True, drop=True)"
   ]
  },
  {
   "cell_type": "code",
   "execution_count": 73,
   "metadata": {},
   "outputs": [],
   "source": [
    "# limit_follow.py 에서 뽑은 follow 1000이상인 inner_id 경로 설정\n",
    "df_1000 = pd.read_csv('/Users/gyumyung/Documents/Insta_profiling/spider/insta_crawling/test.csv')\n",
    "id_list = list(map(str, list(set(df_1000['inner_id']))))"
   ]
  },
  {
   "cell_type": "code",
   "execution_count": null,
   "metadata": {},
   "outputs": [],
   "source": [
    "print('아이디 개수: {}'.format(len(list(set(df['inner_id'])))))\n",
    "print('팔로워 1000넘는 아이디 개수: {}'.format(len(id_list)))"
   ]
  },
  {
   "cell_type": "code",
   "execution_count": 74,
   "metadata": {
    "tags": []
   },
   "outputs": [],
   "source": [
    "idx = []\n",
    "for i, inner_id in enumerate(df['inner_id']):\n",
    "    if str(inner_id) in id_list:\n",
    "        idx.append(i)\n",
    "\n",
    "df.drop(idx, inplace=True)\n",
    "df.reset_index(inplace=True, drop=True)"
   ]
  },
  {
   "cell_type": "code",
   "execution_count": null,
   "metadata": {},
   "outputs": [],
   "source": [
    "print('아이디 개수: {}'.format(len(list(set(df['inner_id'])))))"
   ]
  },
  {
   "cell_type": "code",
   "execution_count": 70,
   "metadata": {},
   "outputs": [],
   "source": [
    "# df.to_csv('.csv')"
   ]
  }
 ]
}