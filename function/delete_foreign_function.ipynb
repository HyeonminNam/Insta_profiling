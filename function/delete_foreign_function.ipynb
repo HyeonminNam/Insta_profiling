{
  "nbformat": 4,
  "nbformat_minor": 0,
  "metadata": {
    "kernelspec": {
      "display_name": "Python 3",
      "language": "python",
      "name": "python3"
    },
    "language_info": {
      "codemirror_mode": {
        "name": "ipython",
        "version": 3
      },
      "file_extension": ".py",
      "mimetype": "text/x-python",
      "name": "python",
      "nbconvert_exporter": "python",
      "pygments_lexer": "ipython3",
      "version": "3.7.3"
    },
    "colab": {
      "name": "delete_foreign_function.ipynb",
      "provenance": [],
      "include_colab_link": true
    }
  },
  "cells": [
    {
      "cell_type": "markdown",
      "metadata": {
        "id": "view-in-github",
        "colab_type": "text"
      },
      "source": [
        "<a href=\"https://colab.research.google.com/github/HyeonminNam/Insta_profiling/blob/master/function/delete_foreign_function.ipynb\" target=\"_parent\"><img src=\"https://colab.research.google.com/assets/colab-badge.svg\" alt=\"Open In Colab\"/></a>"
      ]
    },
    {
      "cell_type": "code",
      "metadata": {
        "id": "zAKSGUreh7KK",
        "colab_type": "code",
        "colab": {}
      },
      "source": [
        "import re\n",
        "import pandas as pd\n",
        "import os"
      ],
      "execution_count": null,
      "outputs": []
    },
    {
      "cell_type": "code",
      "metadata": {
        "id": "L3xl_J7lh7KO",
        "colab_type": "code",
        "colab": {}
      },
      "source": [
        "os.chdir('D:\\Scrapy\\insta_crawling')\n",
        "df = pd.read_csv('jl_region.csv')"
      ],
      "execution_count": null,
      "outputs": []
    },
    {
      "cell_type": "code",
      "metadata": {
        "id": "H7AmKexbh7KS",
        "colab_type": "code",
        "colab": {},
        "outputId": "c58068c6-0b28-48c7-cfee-a9e0eb679a16"
      },
      "source": [
        "id_lst = list(set(df['insta_id']))\n",
        "len(id_lst)"
      ],
      "execution_count": null,
      "outputs": [
        {
          "output_type": "execute_result",
          "data": {
            "text/plain": [
              "3080"
            ]
          },
          "metadata": {
            "tags": []
          },
          "execution_count": 5
        }
      ]
    },
    {
      "cell_type": "code",
      "metadata": {
        "id": "n0PeW8MGh7KW",
        "colab_type": "code",
        "colab": {}
      },
      "source": [
        "def del_foreign(df):\n",
        "    id_lst = list(set(df['insta_id']))\n",
        "    for user_id in id_lst:\n",
        "        count = 0\n",
        "        for y in list(df[df['insta_id']==user_id]['content']):\n",
        "            if type(y) != str:\n",
        "                pass\n",
        "            elif re.search('[가-힣]', y):\n",
        "                count += 1\n",
        "        if count == 0:\n",
        "            idx = df[df['insta_id']==user_id].index\n",
        "            df.drop(idx, inplace=True)\n",
        "    return df"
      ],
      "execution_count": null,
      "outputs": []
    },
    {
      "cell_type": "code",
      "metadata": {
        "id": "Islr2axeh7KZ",
        "colab_type": "code",
        "colab": {}
      },
      "source": [
        "new_df = del_foreign(df)"
      ],
      "execution_count": null,
      "outputs": []
    },
    {
      "cell_type": "code",
      "metadata": {
        "id": "yIpcA83lh7Kc",
        "colab_type": "code",
        "colab": {},
        "outputId": "3178833d-1c06-4054-9798-001d82597218"
      },
      "source": [
        "id_lst = list(set(new_df['insta_id']))\n",
        "len(id_lst)"
      ],
      "execution_count": null,
      "outputs": [
        {
          "output_type": "execute_result",
          "data": {
            "text/plain": [
              "1546"
            ]
          },
          "metadata": {
            "tags": []
          },
          "execution_count": 8
        }
      ]
    },
    {
      "cell_type": "code",
      "metadata": {
        "id": "eiRCwhVzh7Kf",
        "colab_type": "code",
        "colab": {}
      },
      "source": [
        ""
      ],
      "execution_count": null,
      "outputs": []
    }
  ]
}