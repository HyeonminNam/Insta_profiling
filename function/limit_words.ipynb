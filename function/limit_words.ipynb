{
 "metadata": {
  "language_info": {
   "codemirror_mode": {
    "name": "ipython",
    "version": 3
   },
   "file_extension": ".py",
   "mimetype": "text/x-python",
   "name": "python",
   "nbconvert_exporter": "python",
   "pygments_lexer": "ipython3",
   "version": "3.7.6-final"
  },
  "orig_nbformat": 2,
  "kernelspec": {
   "name": "python3",
   "display_name": "Python 3"
  }
 },
 "nbformat": 4,
 "nbformat_minor": 2,
 "cells": [
  {
   "cell_type": "code",
   "execution_count": 51,
   "metadata": {},
   "outputs": [],
   "source": [
    "import pandas as pd"
   ]
  },
  {
   "cell_type": "code",
   "execution_count": 52,
   "metadata": {},
   "outputs": [],
   "source": [
    "# 경로\n",
    "df = pd.read_csv('/Users/gyumyung/Documents/workspace/Insta_Project/gs_delete_over_1000.csv', index_col =[0])"
   ]
  },
  {
   "cell_type": "code",
   "execution_count": 53,
   "metadata": {},
   "outputs": [
    {
     "output_type": "execute_result",
     "data": {
      "text/plain": "28337"
     },
     "metadata": {},
     "execution_count": 53
    }
   ],
   "source": [
    "len(df['content'])"
   ]
  },
  {
   "cell_type": "code",
   "execution_count": 54,
   "metadata": {},
   "outputs": [
    {
     "output_type": "execute_result",
     "data": {
      "text/plain": "1325"
     },
     "metadata": {},
     "execution_count": 54
    }
   ],
   "source": [
    "len(list(set(df['inner_id'])))"
   ]
  },
  {
   "cell_type": "code",
   "execution_count": 55,
   "metadata": {},
   "outputs": [],
   "source": [
    "limit_words = ['문의', 'DM', '고객님', '완판', '이벤트', '콜라보', '납품', '광고', '구매', '매진', '할인', '홍보', '협찬', '수입', '행사', '출시', '런칭', '론칭', '입양', '한정기획', '원플원', '스마트스토어', '발매', '품절', '체험단', '운영중', '오픈시간', '티져영상', '예약', '공식쇼핑몰', '본점', '캠페인', '인스타친구', '사업', '협회', '재입고', '최대지원금', '최저가', '요금', '지급', '개시', '입점']"
   ]
  },
  {
   "cell_type": "code",
   "execution_count": 59,
   "metadata": {
    "tags": []
   },
   "outputs": [],
   "source": [
    "idx = []\n",
    "id_list = []\n",
    "word_cnt = 1 # 광고 단어 포함 횟수\n",
    "\n",
    "for i, content in enumerate(df['content']):\n",
    "    cnt = 0\n",
    "    for word in limit_words:\n",
    "        if word in str(content):\n",
    "            cnt += 1\n",
    "            if cnt == word_cnt:\n",
    "                id_list.append(df['inner_id'][i])\n",
    "                idx.append(i)\n",
    "                break"
   ]
  },
  {
   "cell_type": "code",
   "execution_count": 60,
   "metadata": {},
   "outputs": [
    {
     "output_type": "execute_result",
     "data": {
      "text/plain": "213"
     },
     "metadata": {},
     "execution_count": 60
    }
   ],
   "source": [
    "len(idx)"
   ]
  },
  {
   "cell_type": "code",
   "execution_count": 61,
   "metadata": {},
   "outputs": [
    {
     "output_type": "execute_result",
     "data": {
      "text/plain": "53"
     },
     "metadata": {},
     "execution_count": 61
    }
   ],
   "source": [
    "len(list(set(id_list)))"
   ]
  }
 ]
}