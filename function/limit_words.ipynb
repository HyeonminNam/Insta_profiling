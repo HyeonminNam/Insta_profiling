{
 "metadata": {
  "language_info": {
   "codemirror_mode": {
    "name": "ipython",
    "version": 3
   },
   "file_extension": ".py",
   "mimetype": "text/x-python",
   "name": "python",
   "nbconvert_exporter": "python",
   "pygments_lexer": "ipython3",
   "version": "3.7.6-final"
  },
  "orig_nbformat": 2,
  "kernelspec": {
   "name": "python3",
   "display_name": "Python 3"
  }
 },
 "nbformat": 4,
 "nbformat_minor": 2,
 "cells": [
  {
   "cell_type": "code",
   "execution_count": 158,
   "metadata": {},
   "outputs": [],
   "source": [
    "import pandas as pd"
   ]
  },
  {
   "cell_type": "code",
   "execution_count": 159,
   "metadata": {},
   "outputs": [],
   "source": [
    "# 경로\n",
    "df = pd.read_csv('/Users/gyumyung/Documents/workspace/Insta_Project/gs_delete_over_1000.csv', index_col =[0])"
   ]
  },
  {
   "cell_type": "code",
   "execution_count": 160,
   "metadata": {
    "tags": []
   },
   "outputs": [
    {
     "output_type": "stream",
     "name": "stdout",
     "text": "포스트 개수: 28337 , 유저 명수: 1325\n"
    }
   ],
   "source": [
    "print('포스트 개수: {} , 유저 명수: {}'.format(len(df['content']),len(list(set(df['inner_id'])))))"
   ]
  },
  {
   "cell_type": "code",
   "execution_count": 161,
   "metadata": {},
   "outputs": [],
   "source": [
    "limit_words = ['문의', 'DM', '고객님', '완판', '이벤트', '콜라보', '납품', '광고', '구매', '매진', '할인', '홍보', '협찬', '수입', '행사', '출시', '런칭', '론칭', '입양', '한정기획', '원플원', '스마트스토어', '발매', '품절', '체험단', '운영중', '오픈시간', '티져영상', '예약', '공식쇼핑몰', '본점', '캠페인', '인스타친구', '사업', '협회', '재입고', '최대지원금', '최저가', '요금', '지급', '개시', '입점']"
   ]
  },
  {
   "cell_type": "code",
   "execution_count": 162,
   "metadata": {
    "tags": []
   },
   "outputs": [],
   "source": [
    "idx = []\n",
    "id_list = []\n",
    "word_cnt = 2 # 광고 단어 포함 횟수\n",
    "\n",
    "for i, content in enumerate(df['content']):\n",
    "    cnt = 0\n",
    "    for word in limit_words:\n",
    "        if word in str(content):\n",
    "            cnt += 1\n",
    "            if cnt == word_cnt:\n",
    "                id_list.append(df['inner_id'][i])\n",
    "                idx.append(i)\n",
    "                break"
   ]
  },
  {
   "cell_type": "code",
   "execution_count": 163,
   "metadata": {
    "tags": []
   },
   "outputs": [
    {
     "output_type": "stream",
     "name": "stdout",
     "text": "제거된 포스트 개수: 542, 제거된 유저 명수: 117\n"
    }
   ],
   "source": [
    "print('제거된 포스트 개수: {}, 제거된 유저 명수: {}'.format(len(idx), len(list(set(id_list)))))"
   ]
  },
  {
   "cell_type": "code",
   "execution_count": 164,
   "metadata": {},
   "outputs": [],
   "source": [
    "for user_id in id_list:\n",
    "    df = df[df['inner_id']!=user_id]\n",
    "df.reset_index(inplace=True, drop=True)"
   ]
  },
  {
   "cell_type": "code",
   "execution_count": 165,
   "metadata": {
    "tags": []
   },
   "outputs": [
    {
     "output_type": "stream",
     "name": "stdout",
     "text": "남은 유저 명수: 1208\n"
    }
   ],
   "source": [
    "print('남은 유저 명수: {}'.format(len(list(set(df['inner_id'])))))"
   ]
  },
  {
   "cell_type": "code",
   "execution_count": 166,
   "metadata": {},
   "outputs": [],
   "source": [
    "# df.to_csv('.csv')"
   ]
  }
 ]
}