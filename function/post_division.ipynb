{
 "cells": [
  {
   "cell_type": "code",
   "execution_count": 1,
   "metadata": {},
   "outputs": [],
   "source": [
    "import pandas as pd"
   ]
  },
  {
   "cell_type": "code",
   "execution_count": 3,
   "metadata": {},
   "outputs": [],
   "source": [
    "df = pd.read_csv(r'D:\\local\\insta_profiling\\data\\sd_word.csv')"
   ]
  },
  {
   "cell_type": "code",
   "execution_count": 15,
   "metadata": {},
   "outputs": [],
   "source": [
    "def post_division(df, n, csv_name):\n",
    "    dic_id = {}\n",
    "    id_lst = list(set(df['insta_id']))\n",
    "    print('총 id 개수: {}'.format(len(id_lst)))\n",
    "    for i, id in enumerate(id_lst):\n",
    "        dic_num = i//n\n",
    "        if i%n == 0:\n",
    "            dic_id['{}'.format(dic_num)] = [id]\n",
    "        else:\n",
    "            dic_id['{}'.format(dic_num)].append(id)\n",
    "    for num, ids in dic_id.items():\n",
    "        new_df = pd.DataFrame(columns = df.columns)\n",
    "        for id in ids:\n",
    "            new_df = new_df.append(df[df['insta_id']==id])\n",
    "        new_df.to_csv('{}_{}.csv'.format(csv_name, int(num)+1), index=False)\n",
    "    \n",
    "    print('각 파일 id 개수: {}'.format([len(x) for x in dic_id.values()]))\n",
    "    print('총 {}개의 파일로 분할하였습니다'.format(len(dic_id)))"
   ]
  },
  {
   "cell_type": "code",
   "execution_count": 16,
   "metadata": {},
   "outputs": [
    {
     "name": "stdout",
     "output_type": "stream",
     "text": [
      "총 id 개수: 956\n",
      "각 파일 id 개수: [250, 250, 250, 206]\n",
      "총 4개의 파일로 분할하였습니다\n"
     ]
    }
   ],
   "source": [
    "post_division(df, 250, 'sd_word')"
   ]
  },
  {
   "cell_type": "code",
   "execution_count": null,
   "metadata": {},
   "outputs": [],
   "source": []
  }
 ],
 "metadata": {
  "kernelspec": {
   "display_name": "Python 3",
   "language": "python",
   "name": "python3"
  },
  "language_info": {
   "codemirror_mode": {
    "name": "ipython",
    "version": 3
   },
   "file_extension": ".py",
   "mimetype": "text/x-python",
   "name": "python",
   "nbconvert_exporter": "python",
   "pygments_lexer": "ipython3",
   "version": "3.7.3"
  }
 },
 "nbformat": 4,
 "nbformat_minor": 2
}
