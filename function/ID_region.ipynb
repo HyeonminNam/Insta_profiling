{
 "cells": [
  {
   "cell_type": "code",
   "execution_count": 164,
   "metadata": {},
   "outputs": [],
   "source": [
    "import pandas as pd\n",
    "import numpy as np"
   ]
  },
  {
   "cell_type": "code",
   "execution_count": 165,
   "metadata": {},
   "outputs": [],
   "source": [
    "df = pd.read_csv('gs_post.csv')"
   ]
  },
  {
   "cell_type": "code",
   "execution_count": null,
   "metadata": {},
   "outputs": [],
   "source": []
  },
  {
   "cell_type": "code",
   "execution_count": 166,
   "metadata": {},
   "outputs": [],
   "source": [
    "words = ['여행', '출장', '본가', '휴가', '호캉스', '바캉스', '투어', '펜션', '호텔', '숙박', '공항', '픽업', '해수욕장', 'MT', '엠티', '객실']"
   ]
  },
  {
   "cell_type": "code",
   "execution_count": null,
   "metadata": {},
   "outputs": [],
   "source": []
  },
  {
   "cell_type": "code",
   "execution_count": 167,
   "metadata": {},
   "outputs": [],
   "source": [
    "# content 내 words 포함된 단어의 index\n",
    "idx_content = []\n",
    "\n",
    "for i, v in enumerate(df['content']):\n",
    "    for w in words:\n",
    "        if w in str(v):\n",
    "            idx_content.append(i)"
   ]
  },
  {
   "cell_type": "code",
   "execution_count": null,
   "metadata": {},
   "outputs": [],
   "source": []
  },
  {
   "cell_type": "code",
   "execution_count": 168,
   "metadata": {},
   "outputs": [],
   "source": [
    "# hashtag 내 words 포함된 단어의 index\n",
    "idx_hashtag = []\n",
    "\n",
    "for i, v in enumerate(df['hashtag']):\n",
    "    for w in words:\n",
    "        if w in str(v):\n",
    "            idx_hashtag.append(i)"
   ]
  },
  {
   "cell_type": "code",
   "execution_count": null,
   "metadata": {},
   "outputs": [],
   "source": []
  },
  {
   "cell_type": "code",
   "execution_count": 169,
   "metadata": {},
   "outputs": [
    {
     "name": "stdout",
     "output_type": "stream",
     "text": [
      "words가 포함된 post 수: 10092\n"
     ]
    }
   ],
   "source": [
    "# idx_content와 idx_hashtag에 중복으로 있는 index 제거 후 new_df로 저장\n",
    "idx = []\n",
    "idx.extend(idx_content)\n",
    "idx.extend(idx_hashtag)\n",
    "idx = list(set(idx))\n",
    "print('words가 포함된 post 수: {}'.format(len(idx)))"
   ]
  },
  {
   "cell_type": "code",
   "execution_count": 170,
   "metadata": {},
   "outputs": [],
   "source": [
    "new_df = df.drop(idx)\n",
    "new_df.reset_index(drop=True, inplace=True)"
   ]
  },
  {
   "cell_type": "code",
   "execution_count": 171,
   "metadata": {},
   "outputs": [
    {
     "name": "stdout",
     "output_type": "stream",
     "text": [
      "기존 post수: 131573, 제거 후 post 수: 121481\n"
     ]
    }
   ],
   "source": [
    "print('기존 post수: {}, 제거 후 post 수: {}'.format(len(df), len(new_df)))"
   ]
  },
  {
   "cell_type": "code",
   "execution_count": null,
   "metadata": {},
   "outputs": [],
   "source": []
  },
  {
   "cell_type": "code",
   "execution_count": 172,
   "metadata": {},
   "outputs": [],
   "source": [
    "# 각 id의 region_tag추출. nan값은 제거."
   ]
  },
  {
   "cell_type": "code",
   "execution_count": 173,
   "metadata": {},
   "outputs": [],
   "source": [
    "id_list = np.unique(new_df['insta_id'])"
   ]
  },
  {
   "cell_type": "code",
   "execution_count": 174,
   "metadata": {},
   "outputs": [],
   "source": [
    "region = []\n",
    "\n",
    "for i in id_list:\n",
    "    region_tag = []\n",
    "    for j in new_df[new_df['insta_id']==i]['region_tag']:\n",
    "        try:\n",
    "            np.isnan(j)\n",
    "        except:\n",
    "            region_tag.append(j)\n",
    "    region.append(region_tag)"
   ]
  },
  {
   "cell_type": "code",
   "execution_count": 175,
   "metadata": {},
   "outputs": [],
   "source": [
    "id_region = dict(zip(id_list, region))"
   ]
  },
  {
   "cell_type": "code",
   "execution_count": null,
   "metadata": {},
   "outputs": [],
   "source": []
  },
  {
   "cell_type": "code",
   "execution_count": 176,
   "metadata": {},
   "outputs": [],
   "source": [
    "# 모든 content가 nan값인 id 제거\n",
    "id_delete = []\n",
    "\n",
    "for i in id_region:\n",
    "    if len(id_region[i]) == 0:\n",
    "        id_delete.append(i)"
   ]
  },
  {
   "cell_type": "code",
   "execution_count": 177,
   "metadata": {},
   "outputs": [
    {
     "name": "stdout",
     "output_type": "stream",
     "text": [
      "모든 content가 nan값인 id 수: 7\n"
     ]
    }
   ],
   "source": [
    "print('모든 content가 nan값인 id 수: {}'.format(len(id_delete)))"
   ]
  },
  {
   "cell_type": "code",
   "execution_count": 178,
   "metadata": {},
   "outputs": [],
   "source": [
    "for i in id_delete:\n",
    "    id_region.pop(i)"
   ]
  },
  {
   "cell_type": "code",
   "execution_count": null,
   "metadata": {},
   "outputs": [],
   "source": []
  },
  {
   "cell_type": "code",
   "execution_count": 180,
   "metadata": {},
   "outputs": [],
   "source": [
    "# 저장\n",
    "blank = pd.DataFrame(['' for i in range(len(id_region.keys()))], columns = ['region'])\n",
    "ids = pd.DataFrame(list(id_region.keys()), columns = ['insta_id'])\n",
    "regions = pd.DataFrame(list(id_region.values()))"
   ]
  },
  {
   "cell_type": "code",
   "execution_count": 181,
   "metadata": {},
   "outputs": [],
   "source": [
    "final = pd.concat([blank, ids, regions], axis = 1)"
   ]
  },
  {
   "cell_type": "code",
   "execution_count": 183,
   "metadata": {},
   "outputs": [],
   "source": [
    "# final.to_csv('gs_id_region.csv', index=False)"
   ]
  }
 ],
 "metadata": {
  "kernelspec": {
   "display_name": "Python 3",
   "language": "python",
   "name": "python3"
  },
  "language_info": {
   "codemirror_mode": {
    "name": "ipython",
    "version": 3
   },
   "file_extension": ".py",
   "mimetype": "text/x-python",
   "name": "python",
   "nbconvert_exporter": "python",
   "pygments_lexer": "ipython3",
   "version": "3.7.6"
  }
 },
 "nbformat": 4,
 "nbformat_minor": 4
}
