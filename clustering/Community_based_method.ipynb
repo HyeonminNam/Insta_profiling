{
 "cells": [
  {
   "cell_type": "markdown",
   "metadata": {},
   "source": [
    "# Comminity C 생성\n",
    "- 라벨링된 지역별 user_id --> inner_id 변환\n",
    "- 00_word.csv에서 label_result.csv의 user_id와 매칭되는 inner_id로 변환하기"
   ]
  },
  {
   "cell_type": "code",
   "execution_count": 35,
   "metadata": {},
   "outputs": [],
   "source": [
    "import pandas as pd\n",
    "import numpy as np"
   ]
  },
  {
   "cell_type": "code",
   "execution_count": 36,
   "metadata": {
    "scrolled": true
   },
   "outputs": [
    {
     "data": {
      "text/plain": [
       "수도    1283\n",
       "경상     837\n",
       "충청     319\n",
       "강원     224\n",
       "전라     129\n",
       "Name: region, dtype: int64"
      ]
     },
     "execution_count": 36,
     "metadata": {},
     "output_type": "execute_result"
    }
   ],
   "source": [
    "labeled_df = pd.read_csv(r'C:\\Users\\haech\\label_result.csv')\n",
    "labeled_df['region'].value_counts()"
   ]
  },
  {
   "cell_type": "code",
   "execution_count": 37,
   "metadata": {},
   "outputs": [],
   "source": [
    "labeled_df['gw'] = labeled_df['region'].isin(['강원'])\n",
    "labeled_df['cc'] = labeled_df['region'].isin(['충청'])\n",
    "labeled_df['jl'] = labeled_df['region'].isin(['전라'])\n",
    "labeled_df['sd'] = labeled_df['region'].isin(['수도'])\n",
    "labeled_df['gs'] = labeled_df['region'].isin(['경상'])"
   ]
  },
  {
   "cell_type": "code",
   "execution_count": 38,
   "metadata": {},
   "outputs": [
    {
     "data": {
      "text/html": [
       "<div>\n",
       "<style scoped>\n",
       "    .dataframe tbody tr th:only-of-type {\n",
       "        vertical-align: middle;\n",
       "    }\n",
       "\n",
       "    .dataframe tbody tr th {\n",
       "        vertical-align: top;\n",
       "    }\n",
       "\n",
       "    .dataframe thead th {\n",
       "        text-align: right;\n",
       "    }\n",
       "</style>\n",
       "<table border=\"1\" class=\"dataframe\">\n",
       "  <thead>\n",
       "    <tr style=\"text-align: right;\">\n",
       "      <th></th>\n",
       "      <th>region</th>\n",
       "      <th>insta_id</th>\n",
       "      <th>gw</th>\n",
       "      <th>cc</th>\n",
       "      <th>jl</th>\n",
       "      <th>sd</th>\n",
       "      <th>gs</th>\n",
       "    </tr>\n",
       "  </thead>\n",
       "  <tbody>\n",
       "    <tr>\n",
       "      <th>0</th>\n",
       "      <td>수도</td>\n",
       "      <td>0.21_se</td>\n",
       "      <td>False</td>\n",
       "      <td>False</td>\n",
       "      <td>False</td>\n",
       "      <td>True</td>\n",
       "      <td>False</td>\n",
       "    </tr>\n",
       "    <tr>\n",
       "      <th>1</th>\n",
       "      <td>수도</td>\n",
       "      <td>00_msssss</td>\n",
       "      <td>False</td>\n",
       "      <td>False</td>\n",
       "      <td>False</td>\n",
       "      <td>True</td>\n",
       "      <td>False</td>\n",
       "    </tr>\n",
       "    <tr>\n",
       "      <th>2</th>\n",
       "      <td>수도</td>\n",
       "      <td>00_wlwl</td>\n",
       "      <td>False</td>\n",
       "      <td>False</td>\n",
       "      <td>False</td>\n",
       "      <td>True</td>\n",
       "      <td>False</td>\n",
       "    </tr>\n",
       "    <tr>\n",
       "      <th>3</th>\n",
       "      <td>충청</td>\n",
       "      <td>01.su_jin</td>\n",
       "      <td>False</td>\n",
       "      <td>True</td>\n",
       "      <td>False</td>\n",
       "      <td>False</td>\n",
       "      <td>False</td>\n",
       "    </tr>\n",
       "    <tr>\n",
       "      <th>4</th>\n",
       "      <td>충청</td>\n",
       "      <td>0104ayoung</td>\n",
       "      <td>False</td>\n",
       "      <td>True</td>\n",
       "      <td>False</td>\n",
       "      <td>False</td>\n",
       "      <td>False</td>\n",
       "    </tr>\n",
       "    <tr>\n",
       "      <th>...</th>\n",
       "      <td>...</td>\n",
       "      <td>...</td>\n",
       "      <td>...</td>\n",
       "      <td>...</td>\n",
       "      <td>...</td>\n",
       "      <td>...</td>\n",
       "      <td>...</td>\n",
       "    </tr>\n",
       "    <tr>\n",
       "      <th>2787</th>\n",
       "      <td>수도</td>\n",
       "      <td>zumba.hara</td>\n",
       "      <td>False</td>\n",
       "      <td>False</td>\n",
       "      <td>False</td>\n",
       "      <td>True</td>\n",
       "      <td>False</td>\n",
       "    </tr>\n",
       "    <tr>\n",
       "      <th>2788</th>\n",
       "      <td>수도</td>\n",
       "      <td>zumba_honey</td>\n",
       "      <td>False</td>\n",
       "      <td>False</td>\n",
       "      <td>False</td>\n",
       "      <td>True</td>\n",
       "      <td>False</td>\n",
       "    </tr>\n",
       "    <tr>\n",
       "      <th>2789</th>\n",
       "      <td>수도</td>\n",
       "      <td>zusainbolt</td>\n",
       "      <td>False</td>\n",
       "      <td>False</td>\n",
       "      <td>False</td>\n",
       "      <td>True</td>\n",
       "      <td>False</td>\n",
       "    </tr>\n",
       "    <tr>\n",
       "      <th>2790</th>\n",
       "      <td>수도</td>\n",
       "      <td>zzang__mat</td>\n",
       "      <td>False</td>\n",
       "      <td>False</td>\n",
       "      <td>False</td>\n",
       "      <td>True</td>\n",
       "      <td>False</td>\n",
       "    </tr>\n",
       "    <tr>\n",
       "      <th>2791</th>\n",
       "      <td>수도</td>\n",
       "      <td>zzin1069</td>\n",
       "      <td>False</td>\n",
       "      <td>False</td>\n",
       "      <td>False</td>\n",
       "      <td>True</td>\n",
       "      <td>False</td>\n",
       "    </tr>\n",
       "  </tbody>\n",
       "</table>\n",
       "<p>2792 rows × 7 columns</p>\n",
       "</div>"
      ],
      "text/plain": [
       "     region     insta_id     gw     cc     jl     sd     gs\n",
       "0        수도      0.21_se  False  False  False   True  False\n",
       "1        수도    00_msssss  False  False  False   True  False\n",
       "2        수도      00_wlwl  False  False  False   True  False\n",
       "3        충청    01.su_jin  False   True  False  False  False\n",
       "4        충청   0104ayoung  False   True  False  False  False\n",
       "...     ...          ...    ...    ...    ...    ...    ...\n",
       "2787     수도   zumba.hara  False  False  False   True  False\n",
       "2788     수도  zumba_honey  False  False  False   True  False\n",
       "2789     수도   zusainbolt  False  False  False   True  False\n",
       "2790     수도   zzang__mat  False  False  False   True  False\n",
       "2791     수도     zzin1069  False  False  False   True  False\n",
       "\n",
       "[2792 rows x 7 columns]"
      ]
     },
     "execution_count": 38,
     "metadata": {},
     "output_type": "execute_result"
    }
   ],
   "source": [
    "labeled_df"
   ]
  },
  {
   "cell_type": "code",
   "execution_count": 39,
   "metadata": {},
   "outputs": [],
   "source": [
    "gw_index = labeled_df.index[labeled_df['gw'] == True].tolist()\n",
    "cc_index = labeled_df.index[labeled_df['cc'] == True].tolist()\n",
    "jl_index = labeled_df.index[labeled_df['jl'] == True].tolist()\n",
    "sd_index = labeled_df.index[labeled_df['sd'] == True].tolist()\n",
    "gs_index = labeled_df.index[labeled_df['gs'] == True].tolist()"
   ]
  },
  {
   "cell_type": "code",
   "execution_count": 40,
   "metadata": {
    "scrolled": true
   },
   "outputs": [
    {
     "name": "stdout",
     "output_type": "stream",
     "text": [
      "224 319 129 1283 837\n"
     ]
    }
   ],
   "source": [
    "print(len(gw_index), len(cc_index), len(jl_index), len(sd_index), len(gs_index))"
   ]
  },
  {
   "cell_type": "code",
   "execution_count": 41,
   "metadata": {},
   "outputs": [],
   "source": [
    "labeled_ls = labeled_df['insta_id'].tolist()"
   ]
  },
  {
   "cell_type": "code",
   "execution_count": 42,
   "metadata": {},
   "outputs": [],
   "source": [
    "# 지역별 labeling된 user_id 리스트 생성\n",
    "def extract_id(index, labeled_ls):\n",
    "    id_ls = []\n",
    "    for i, v in enumerate(labeled_ls):\n",
    "        for j in index:\n",
    "            if i == j:\n",
    "                id_ls.append(v)\n",
    "    return id_ls"
   ]
  },
  {
   "cell_type": "code",
   "execution_count": 43,
   "metadata": {},
   "outputs": [],
   "source": [
    "gw_userid = extract_id(gw_index, labeled_ls)\n",
    "cc_userid = extract_id(cc_index, labeled_ls)\n",
    "jl_userid = extract_id(jl_index, labeled_ls)\n",
    "sd_userid = extract_id(sd_index, labeled_ls)\n",
    "gs_userid = extract_id(gs_index, labeled_ls)"
   ]
  },
  {
   "cell_type": "markdown",
   "metadata": {},
   "source": [
    "### 모든 지역 word.csv합치기\n",
    "- 모든 지역의 user_id와 inner_id를 추출하기 위함"
   ]
  },
  {
   "cell_type": "code",
   "execution_count": 44,
   "metadata": {},
   "outputs": [],
   "source": [
    "df1 = pd.read_csv(r'C:\\Users\\haech\\gw_word.csv')\n",
    "df2 = pd.read_csv(r'C:\\Users\\haech\\cc_word.csv')\n",
    "df3 = pd.read_csv(r'C:\\Users\\haech\\gs_word.csv')\n",
    "df4 = pd.read_csv(r'C:\\Users\\haech\\jl_word.csv')\n",
    "df5 = pd.read_csv(r'C:\\Users\\haech\\sd_word.csv')"
   ]
  },
  {
   "cell_type": "code",
   "execution_count": 45,
   "metadata": {
    "scrolled": true
   },
   "outputs": [],
   "source": [
    "result = df1.append(df2)\n",
    "result = result.append(df3)\n",
    "result = result.append(df4)\n",
    "result = result.append(df5)"
   ]
  },
  {
   "cell_type": "code",
   "execution_count": 46,
   "metadata": {
    "scrolled": true
   },
   "outputs": [],
   "source": [
    "result.reset_index(inplace=True)"
   ]
  },
  {
   "cell_type": "code",
   "execution_count": 47,
   "metadata": {
    "scrolled": true
   },
   "outputs": [],
   "source": [
    "df = result.drop('index', axis=1) # 전체 지역 합친 거"
   ]
  },
  {
   "cell_type": "code",
   "execution_count": 48,
   "metadata": {
    "scrolled": true
   },
   "outputs": [],
   "source": [
    "id_df = df[['insta_id', 'inner_id']]"
   ]
  },
  {
   "cell_type": "markdown",
   "metadata": {},
   "source": [
    "### 각 지역별 labeling된 userid를 innerid로 변환하기\n",
    "- {insta_id : inner_id} 사전생성 후, 매칭되는 userid를 innerid로 변환"
   ]
  },
  {
   "cell_type": "code",
   "execution_count": 22,
   "metadata": {},
   "outputs": [],
   "source": [
    "# 전체 지역의 {insta_id : inner_id} 사전생성\n",
    "\n",
    "def create_id_dic(id_df):\n",
    "    id_dic = {}\n",
    "    for insta, inner in zip(id_df['insta_id'], id_df['inner_id']):\n",
    "        if insta in id_dic.keys() or inner in id_dic.values():\n",
    "            pass\n",
    "        else:\n",
    "            id_dic[insta] = inner\n",
    "    return id_dic"
   ]
  },
  {
   "cell_type": "code",
   "execution_count": 23,
   "metadata": {},
   "outputs": [
    {
     "data": {
      "text/plain": [
       "5589"
      ]
     },
     "execution_count": 23,
     "metadata": {},
     "output_type": "execute_result"
    }
   ],
   "source": [
    "all_id_dic = create_id_dic(id_df)\n",
    "len(all_id_dic)"
   ]
  },
  {
   "cell_type": "code",
   "execution_count": 24,
   "metadata": {},
   "outputs": [],
   "source": [
    "# 각 지역별 labeling된 userid를 innerid로 변환하기\n",
    "\n",
    "def user_to_inner(all_id_dic, userid_ls):\n",
    "    innerid = []\n",
    "    for (key, elem) in all_id_dic.items():\n",
    "        for i in userid_ls:\n",
    "            if i == key:\n",
    "                innerid.append(elem)\n",
    "    return innerid"
   ]
  },
  {
   "cell_type": "code",
   "execution_count": 25,
   "metadata": {},
   "outputs": [],
   "source": [
    "# labeling된 유저들의 지역별 inner_id\n",
    "\n",
    "gw_innerid = user_to_inner(all_id_dic, gw_userid)\n",
    "cc_innerid = user_to_inner(all_id_dic, cc_userid)\n",
    "jl_innerid = user_to_inner(all_id_dic, jl_userid)\n",
    "sd_innerid = user_to_inner(all_id_dic, sd_userid)\n",
    "gs_innerid = user_to_inner(all_id_dic, gs_userid)"
   ]
  },
  {
   "cell_type": "code",
   "execution_count": 26,
   "metadata": {},
   "outputs": [
    {
     "data": {
      "text/plain": [
       "int"
      ]
     },
     "execution_count": 26,
     "metadata": {},
     "output_type": "execute_result"
    }
   ],
   "source": [
    "type(jl_innerid[0])"
   ]
  },
  {
   "cell_type": "code",
   "execution_count": 27,
   "metadata": {},
   "outputs": [
    {
     "name": "stdout",
     "output_type": "stream",
     "text": [
      "224 319 129 1281 836\n"
     ]
    }
   ],
   "source": [
    "print(len(gw_innerid), len(cc_innerid), len(jl_innerid), len(sd_innerid), len(gs_innerid))"
   ]
  },
  {
   "cell_type": "markdown",
   "metadata": {},
   "source": [
    "### 각 지역별 center user로부터 수집한 팔로워/팔로잉 id목록에서 labeling된 id만 남기기\n",
    "- 예시 . 강원도"
   ]
  },
  {
   "cell_type": "code",
   "execution_count": 28,
   "metadata": {},
   "outputs": [],
   "source": [
    "jl_df = pd.read_csv(r\"C:\\Users\\haech\\jl_2.csv\")"
   ]
  },
  {
   "cell_type": "code",
   "execution_count": 29,
   "metadata": {},
   "outputs": [
    {
     "data": {
      "text/html": [
       "<div>\n",
       "<style scoped>\n",
       "    .dataframe tbody tr th:only-of-type {\n",
       "        vertical-align: middle;\n",
       "    }\n",
       "\n",
       "    .dataframe tbody tr th {\n",
       "        vertical-align: top;\n",
       "    }\n",
       "\n",
       "    .dataframe thead th {\n",
       "        text-align: right;\n",
       "    }\n",
       "</style>\n",
       "<table border=\"1\" class=\"dataframe\">\n",
       "  <thead>\n",
       "    <tr style=\"text-align: right;\">\n",
       "      <th></th>\n",
       "      <th>start</th>\n",
       "      <th>end</th>\n",
       "      <th>t_f</th>\n",
       "    </tr>\n",
       "  </thead>\n",
       "  <tbody>\n",
       "    <tr>\n",
       "      <th>0</th>\n",
       "      <td>31787118935</td>\n",
       "      <td>16574483307</td>\n",
       "      <td>NaN</td>\n",
       "    </tr>\n",
       "    <tr>\n",
       "      <th>1</th>\n",
       "      <td>16574483307</td>\n",
       "      <td>2931147151</td>\n",
       "      <td>NaN</td>\n",
       "    </tr>\n",
       "    <tr>\n",
       "      <th>2</th>\n",
       "      <td>16574483307</td>\n",
       "      <td>16360242589</td>\n",
       "      <td>NaN</td>\n",
       "    </tr>\n",
       "    <tr>\n",
       "      <th>3</th>\n",
       "      <td>16574483307</td>\n",
       "      <td>1999007700</td>\n",
       "      <td>NaN</td>\n",
       "    </tr>\n",
       "    <tr>\n",
       "      <th>4</th>\n",
       "      <td>16574483307</td>\n",
       "      <td>2371238066</td>\n",
       "      <td>NaN</td>\n",
       "    </tr>\n",
       "    <tr>\n",
       "      <th>...</th>\n",
       "      <td>...</td>\n",
       "      <td>...</td>\n",
       "      <td>...</td>\n",
       "    </tr>\n",
       "    <tr>\n",
       "      <th>10180</th>\n",
       "      <td>201464065</td>\n",
       "      <td>390379796</td>\n",
       "      <td>NaN</td>\n",
       "    </tr>\n",
       "    <tr>\n",
       "      <th>10181</th>\n",
       "      <td>201464065</td>\n",
       "      <td>6265992188</td>\n",
       "      <td>NaN</td>\n",
       "    </tr>\n",
       "    <tr>\n",
       "      <th>10182</th>\n",
       "      <td>201464065</td>\n",
       "      <td>1754242539</td>\n",
       "      <td>NaN</td>\n",
       "    </tr>\n",
       "    <tr>\n",
       "      <th>10183</th>\n",
       "      <td>201464065</td>\n",
       "      <td>1712946934</td>\n",
       "      <td>NaN</td>\n",
       "    </tr>\n",
       "    <tr>\n",
       "      <th>10184</th>\n",
       "      <td>201464065</td>\n",
       "      <td>459484981</td>\n",
       "      <td>NaN</td>\n",
       "    </tr>\n",
       "  </tbody>\n",
       "</table>\n",
       "<p>10185 rows × 3 columns</p>\n",
       "</div>"
      ],
      "text/plain": [
       "             start          end  t_f\n",
       "0      31787118935  16574483307  NaN\n",
       "1      16574483307   2931147151  NaN\n",
       "2      16574483307  16360242589  NaN\n",
       "3      16574483307   1999007700  NaN\n",
       "4      16574483307   2371238066  NaN\n",
       "...            ...          ...  ...\n",
       "10180    201464065    390379796  NaN\n",
       "10181    201464065   6265992188  NaN\n",
       "10182    201464065   1754242539  NaN\n",
       "10183    201464065   1712946934  NaN\n",
       "10184    201464065    459484981  NaN\n",
       "\n",
       "[10185 rows x 3 columns]"
      ]
     },
     "execution_count": 29,
     "metadata": {},
     "output_type": "execute_result"
    }
   ],
   "source": [
    "jl_df['t_f'] = np.nan\n",
    "jl_df"
   ]
  },
  {
   "cell_type": "code",
   "execution_count": 30,
   "metadata": {},
   "outputs": [
    {
     "name": "stderr",
     "output_type": "stream",
     "text": [
      "C:\\ProgramData\\Anaconda3\\lib\\site-packages\\ipykernel_launcher.py:4: SettingWithCopyWarning: \n",
      "A value is trying to be set on a copy of a slice from a DataFrame\n",
      "\n",
      "See the caveats in the documentation: https://pandas.pydata.org/pandas-docs/stable/user_guide/indexing.html#returning-a-view-versus-a-copy\n",
      "  after removing the cwd from sys.path.\n",
      "C:\\ProgramData\\Anaconda3\\lib\\site-packages\\pandas\\core\\indexing.py:670: SettingWithCopyWarning: \n",
      "A value is trying to be set on a copy of a slice from a DataFrame\n",
      "\n",
      "See the caveats in the documentation: https://pandas.pydata.org/pandas-docs/stable/user_guide/indexing.html#returning-a-view-versus-a-copy\n",
      "  self._setitem_with_indexer(indexer, value)\n",
      "C:\\ProgramData\\Anaconda3\\lib\\site-packages\\ipykernel_launcher.py:9: SettingWithCopyWarning: \n",
      "A value is trying to be set on a copy of a slice from a DataFrame\n",
      "\n",
      "See the caveats in the documentation: https://pandas.pydata.org/pandas-docs/stable/user_guide/indexing.html#returning-a-view-versus-a-copy\n",
      "  if __name__ == '__main__':\n"
     ]
    }
   ],
   "source": [
    "for i,v in enumerate(jl_df['start']):\n",
    "    for j in jl_innerid:\n",
    "        if v == j:\n",
    "            jl_df['t_f'][i] = 'T1'\n",
    "\n",
    "for i,v in enumerate(jl_df['end']):            \n",
    "    for j in jl_innerid:\n",
    "        if v == j:\n",
    "            jl_df['t_f'][i] = 'T2'"
   ]
  },
  {
   "cell_type": "code",
   "execution_count": 33,
   "metadata": {},
   "outputs": [
    {
     "name": "stderr",
     "output_type": "stream",
     "text": [
      "C:\\ProgramData\\Anaconda3\\lib\\site-packages\\pandas\\core\\frame.py:3997: SettingWithCopyWarning: \n",
      "A value is trying to be set on a copy of a slice from a DataFrame\n",
      "\n",
      "See the caveats in the documentation: https://pandas.pydata.org/pandas-docs/stable/user_guide/indexing.html#returning-a-view-versus-a-copy\n",
      "  errors=errors,\n"
     ]
    }
   ],
   "source": [
    "jl_df = jl_df.dropna()\n",
    "jl_df.drop(['t_f'], axis='columns', inplace=True)"
   ]
  },
  {
   "cell_type": "code",
   "execution_count": 34,
   "metadata": {
    "scrolled": true
   },
   "outputs": [
    {
     "data": {
      "text/html": [
       "<div>\n",
       "<style scoped>\n",
       "    .dataframe tbody tr th:only-of-type {\n",
       "        vertical-align: middle;\n",
       "    }\n",
       "\n",
       "    .dataframe tbody tr th {\n",
       "        vertical-align: top;\n",
       "    }\n",
       "\n",
       "    .dataframe thead th {\n",
       "        text-align: right;\n",
       "    }\n",
       "</style>\n",
       "<table border=\"1\" class=\"dataframe\">\n",
       "  <thead>\n",
       "    <tr style=\"text-align: right;\">\n",
       "      <th></th>\n",
       "      <th>start</th>\n",
       "      <th>end</th>\n",
       "    </tr>\n",
       "  </thead>\n",
       "  <tbody>\n",
       "    <tr>\n",
       "      <th>84</th>\n",
       "      <td>39245477197</td>\n",
       "      <td>2212358887</td>\n",
       "    </tr>\n",
       "    <tr>\n",
       "      <th>854</th>\n",
       "      <td>5372467479</td>\n",
       "      <td>20911270630</td>\n",
       "    </tr>\n",
       "    <tr>\n",
       "      <th>1403</th>\n",
       "      <td>20911270630</td>\n",
       "      <td>5372467479</td>\n",
       "    </tr>\n",
       "    <tr>\n",
       "      <th>1548</th>\n",
       "      <td>4520758326</td>\n",
       "      <td>4044075687</td>\n",
       "    </tr>\n",
       "    <tr>\n",
       "      <th>1902</th>\n",
       "      <td>20911270630</td>\n",
       "      <td>2080289377</td>\n",
       "    </tr>\n",
       "    <tr>\n",
       "      <th>3397</th>\n",
       "      <td>5367931874</td>\n",
       "      <td>7185274605</td>\n",
       "    </tr>\n",
       "    <tr>\n",
       "      <th>3402</th>\n",
       "      <td>32688567176</td>\n",
       "      <td>7686380442</td>\n",
       "    </tr>\n",
       "    <tr>\n",
       "      <th>3706</th>\n",
       "      <td>6048680223</td>\n",
       "      <td>5732244865</td>\n",
       "    </tr>\n",
       "    <tr>\n",
       "      <th>4339</th>\n",
       "      <td>6581581630</td>\n",
       "      <td>7364826823</td>\n",
       "    </tr>\n",
       "    <tr>\n",
       "      <th>5526</th>\n",
       "      <td>7364826823</td>\n",
       "      <td>6581581630</td>\n",
       "    </tr>\n",
       "    <tr>\n",
       "      <th>6475</th>\n",
       "      <td>7089766153</td>\n",
       "      <td>1621054320</td>\n",
       "    </tr>\n",
       "    <tr>\n",
       "      <th>6669</th>\n",
       "      <td>8100992998</td>\n",
       "      <td>1960131497</td>\n",
       "    </tr>\n",
       "    <tr>\n",
       "      <th>6814</th>\n",
       "      <td>6788616883</td>\n",
       "      <td>1621054320</td>\n",
       "    </tr>\n",
       "    <tr>\n",
       "      <th>6845</th>\n",
       "      <td>48292127</td>\n",
       "      <td>1698902242</td>\n",
       "    </tr>\n",
       "    <tr>\n",
       "      <th>6981</th>\n",
       "      <td>3880446052</td>\n",
       "      <td>1621054320</td>\n",
       "    </tr>\n",
       "    <tr>\n",
       "      <th>7385</th>\n",
       "      <td>3476754264</td>\n",
       "      <td>1698902242</td>\n",
       "    </tr>\n",
       "    <tr>\n",
       "      <th>7912</th>\n",
       "      <td>1621054320</td>\n",
       "      <td>7089766153</td>\n",
       "    </tr>\n",
       "    <tr>\n",
       "      <th>8074</th>\n",
       "      <td>1033090119</td>\n",
       "      <td>1602667817</td>\n",
       "    </tr>\n",
       "    <tr>\n",
       "      <th>8662</th>\n",
       "      <td>1698902242</td>\n",
       "      <td>48292127</td>\n",
       "    </tr>\n",
       "    <tr>\n",
       "      <th>8691</th>\n",
       "      <td>1621054320</td>\n",
       "      <td>6788616883</td>\n",
       "    </tr>\n",
       "    <tr>\n",
       "      <th>8739</th>\n",
       "      <td>725216245</td>\n",
       "      <td>35625670</td>\n",
       "    </tr>\n",
       "    <tr>\n",
       "      <th>9659</th>\n",
       "      <td>1698902242</td>\n",
       "      <td>3476754264</td>\n",
       "    </tr>\n",
       "  </tbody>\n",
       "</table>\n",
       "</div>"
      ],
      "text/plain": [
       "            start          end\n",
       "84    39245477197   2212358887\n",
       "854    5372467479  20911270630\n",
       "1403  20911270630   5372467479\n",
       "1548   4520758326   4044075687\n",
       "1902  20911270630   2080289377\n",
       "3397   5367931874   7185274605\n",
       "3402  32688567176   7686380442\n",
       "3706   6048680223   5732244865\n",
       "4339   6581581630   7364826823\n",
       "5526   7364826823   6581581630\n",
       "6475   7089766153   1621054320\n",
       "6669   8100992998   1960131497\n",
       "6814   6788616883   1621054320\n",
       "6845     48292127   1698902242\n",
       "6981   3880446052   1621054320\n",
       "7385   3476754264   1698902242\n",
       "7912   1621054320   7089766153\n",
       "8074   1033090119   1602667817\n",
       "8662   1698902242     48292127\n",
       "8691   1621054320   6788616883\n",
       "8739    725216245     35625670\n",
       "9659   1698902242   3476754264"
      ]
     },
     "execution_count": 34,
     "metadata": {},
     "output_type": "execute_result"
    }
   ],
   "source": [
    "jl_df # 결과"
   ]
  }
 ],
 "metadata": {
  "kernelspec": {
   "display_name": "Python 3",
   "language": "python",
   "name": "python3"
  },
  "language_info": {
   "codemirror_mode": {
    "name": "ipython",
    "version": 3
   },
   "file_extension": ".py",
   "mimetype": "text/x-python",
   "name": "python",
   "nbconvert_exporter": "python",
   "pygments_lexer": "ipython3",
   "version": "3.7.6"
  }
 },
 "nbformat": 4,
 "nbformat_minor": 4
}
