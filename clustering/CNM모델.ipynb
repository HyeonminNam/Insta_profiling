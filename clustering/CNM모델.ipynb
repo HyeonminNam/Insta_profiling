{
 "cells": [
  {
   "cell_type": "code",
   "execution_count": 1,
   "metadata": {},
   "outputs": [
    {
     "name": "stdout",
     "output_type": "stream",
     "text": [
      "Requirement already satisfied: snap-stanford in c:\\programdata\\anaconda3\\lib\\site-packages (5.0.0)\n"
     ]
    }
   ],
   "source": [
    "!pip install snap-stanford"
   ]
  },
  {
   "cell_type": "code",
   "execution_count": 1,
   "metadata": {},
   "outputs": [],
   "source": [
    "import pandas as pd\n",
    "import numpy as np"
   ]
  },
  {
   "cell_type": "code",
   "execution_count": 3,
   "metadata": {
    "scrolled": false
   },
   "outputs": [
    {
     "name": "stdout",
     "output_type": "stream",
     "text": [
      "G1: Nodes 7707, Edges 9387\n",
      "Number of Nodes: 7707\n",
      "Number of nodes of zero degree: 0\n",
      "Average degree: 2.4359673024523163\n",
      "Size of largest strongly connected component: 7707\n",
      "Number of connected components: 1\n",
      "Number of communities: 37\n",
      "Largest community: 1801\n",
      "Smallest community: 4\n",
      "Community 4: [1487, 4706, 3779, 3674, 4423, 4515, 4117, 756, 1243, 1841, 4452, 4403, 2775, 4170, 1517, 573, 2474, 2166, 1428, 676, 322, 456, 2120, 755, 1756, 2799, 2580, 194, 5089, 7542, 5865, 6578, 7284, 7309, 3508, 7129, 6837, 6958, 6656, 6708, 7298, 3248, 7424, 954, 1668, 1565, 1204, 354, 1108, 1338, 1627, 2853, 1461, 1115, 1105, 5331, 5779, 6300, 7118, 6679, 6319, 1613, 1451, 1097, 454, 5860, 6328, 7156, 6184, 5143, 3150, 2806, 7041, 7159, 2498, 4791, 7497, 6992, 5096, 3685, 4067, 2683, 2001, 3198, 2242, 1366, 4211, 484, 2351, 3613, 1226, 3489, 1241, 2634, 3851, 3729, 1511, 574, 2107, 1631, 1120, 1215, 3255, 3294, 307, 1475, 2520, 2676, 802, 3013, 2037, 362, 2886, 1195, 1006, 4447, 5114, 7251, 6334, 6395, 2411, 7162, 7054, 7495, 5142, 5147, 5241, 6955, 4775, 5165, 6253, 5050, 6411, 6991, 3996, 7060, 5630, 5413, 6339, 5611, 6625, 4960, 5595, 6067, 5922, 6523, 6029, 5962, 5557, 5587, 6695, 5177, 6197, 4952, 5995, 4938, 4968, 4926, 5719, 6499, 6366, 6840, 6704, 6911, 7157, 4897, 5185, 6621, 5616, 6301, 7065, 5503, 6226, 6825, 7043, 5974, 6875, 7056, 6757, 6784, 5511, 6082, 4848, 4901, 4828, 4862, 5183, 6583, 6220, 5945, 5780, 5205, 4951, 6329, 6766, 6773, 6469, 4925, 6753, 4933, 5721, 5961, 1705, 1928, 6391, 5482, 4492, 4668, 2928, 246, 2437, 2621, 1672, 492, 853, 2410, 3344, 3127, 1794, 2322, 3447, 3313, 982, 3097, 1145, 2356, 2859, 2719, 2577, 2444, 2191, 1093, 2030, 3143, 1638, 1826, 1913, 4710, 2832, 4299, 1771, 917, 506, 1435, 589, 646, 409, 7678, 5204, 4232, 3145, 2863, 6096, 7346, 7451, 5342, 3164, 3556, 3475, 7299, 6845, 5467, 6324, 6760, 6905, 6358, 6545, 3278, 1088, 5951, 6135, 6331, 2093, 3021, 5769, 5198, 6541, 2946, 2473, 911, 6296, 6795, 6857, 6261, 7577, 5462, 2702, 2815, 1462, 2631, 5573, 6735, 2664, 2618, 2010, 7504, 4766, 5075, 6275, 1801, 1727, 1598, 358, 5181, 6871, 6901, 1255, 1346, 1152, 1342, 5713, 7344, 5010, 1160, 386, 5931, 5829, 990, 5789, 5917, 5636, 7160, 6745, 6074, 5374, 5835, 6222, 5725, 5166, 5162, 5576, 5593, 5453, 5619, 7323, 7270, 7274, 5376, 5427, 5871, 5655, 5601, 6245, 697, 5671, 4865, 6507, 6108, 5077, 5373, 5566, 5677, 6564, 6487, 5639, 7148, 6859, 7005, 6410, 5800, 5556, 5703, 5201, 6832, 6160, 6080, 1693, 6299, 5836, 5999, 5401, 5389, 6103, 6287, 5838, 629, 5893, 5604, 6118, 5785, 5892, 5504, 937, 2104, 4486, 3509, 1272, 1512, 2337, 1418, 1477, 4235, 3941, 3675, 599, 1070, 2306, 2150, 1579, 2827, 416, 3694, 1203, 3616, 2963, 2080, 3359, 3325, 1151, 3272, 2795, 3251, 1938, 578, 3121, 3064, 3061, 66, 383, 2696, 1301, 2607, 2566, 1671, 1391, 2236, 560, 1121, 2153, 413, 283, 989, 1881, 1803, 1745, 1656, 1049, 1506, 281, 7107, 7045, 7050, 6634, 6277, 4970]\n",
      "Community 11: [6121, 5092, 2084, 1688, 7186, 6340, 7597, 6544, 5110, 5914, 6087, 6381, 2576, 4657, 4658, 3880, 784, 4631, 4581, 4378, 1214, 4364, 4257, 1087, 4063, 602, 3215, 1600, 3698, 1864, 3558, 2811, 3498, 3183, 1209, 3279, 1607, 1066, 828, 1522, 1789, 2501, 2346, 2221, 855, 1992, 1972, 1293, 1776, 1896, 5645, 7052, 7205, 7622, 6141, 5870, 5923, 7536, 7139, 5240, 6085, 6680, 7227, 6138, 5209, 5569, 7469, 7260, 6054, 5666, 5485, 6327, 5792, 6696, 6251, 6318, 7351, 6241, 6117, 6660, 6162, 7271, 7003, 6918, 6570, 7437, 7235, 6000, 5676, 7135, 5661, 5702, 6289, 5543, 6860, 6345, 5759, 5550, 5210, 6446, 6836, 5345, 7192, 7189, 6874, 7105, 6940, 6031, 5104, 6848, 5397, 5282, 5097, 6685, 5919, 6463, 5628, 6844, 6198, 6083, 5760, 5326, 6346, 6295, 5640, 5328, 6538, 5117, 4750, 5122, 4748, 5065, 6134, 1616, 5570, 6265, 5794, 6161, 5382, 5171, 6172, 5338]\n",
      "Community 21: [4703, 4702, 3790, 4705, 4723, 4717, 4451, 951, 4641, 2427, 3118, 4591, 4738, 1830, 4491, 4739, 4244, 2213, 3499, 3759, 700, 1570, 4457, 1682, 1780, 1133, 576, 6723, 6344, 7130, 6876, 5062, 5350, 5686, 7173, 5898, 337, 6640, 5449, 6304, 6898, 5622, 6498, 5145, 5231, 5408, 5372, 5724, 635, 6945, 1849, 5335, 7393, 6511, 5826, 5834, 5744, 5422, 7072, 5340, 7636, 4191, 5906, 6006, 4350, 1493, 6892, 6062, 5202, 6109, 378, 4542, 5252, 1828, 2835, 2935, 5295, 432, 5787, 3142, 2723, 5488, 928, 2751, 4153, 5434, 6076, 1076, 618, 5608, 2961, 1007, 238, 7128, 1948, 1931, 4302, 6707, 6192, 5700, 6654, 6305, 5461, 7358, 5191, 7176, 6933, 5928, 5614, 6785, 5580, 6262, 5249, 5850, 6967, 7244, 6267, 6461, 4849, 6456, 7307, 7540, 5267, 5474, 6497, 6445, 7508, 7256, 5823, 1625, 5632, 6070, 7382, 5971, 7510, 7366, 7057, 7566, 6881, 6909, 6968, 5788, 7645, 7596, 6569, 7463, 7628, 7589, 7272, 7651, 7641, 6399, 6800, 5733, 7643, 4753, 7427, 7687, 7683, 7691, 7697, 7666, 7694, 6343, 5066, 4774, 4846, 4807, 4796, 4861, 4765, 4830, 4770, 4786, 4992, 4859, 5035, 4891, 5493, 4784, 4863, 4835, 4991, 4975, 5567, 5537, 5356, 5541, 5590, 5505, 5197, 5044, 4953, 5517, 5347, 5564, 5477, 5305, 4332, 4110, 1341, 4237, 3673, 3919, 3477, 2773, 2472, 1312, 2160, 1770, 2981, 3916, 4081, 3000, 3627, 3920, 2794, 4142, 4155, 3298, 3890, 3252, 580, 3841, 3915, 836, 3907, 2089, 3963, 3859, 1374, 3943, 3847, 3836, 3491, 3401, 3201, 2529, 2533, 2969, 1944, 2673, 2024, 2760, 2569, 2812, 628, 2714, 2682, 1721, 2413, 2757, 2647, 2603, 780, 2585, 462, 2266, 2258, 2141, 1865, 1715, 1276, 4, 1924, 1880, 1792, 626, 356, 1755, 7703, 7292, 7059, 7338, 7591, 5386, 7208, 7466, 6249, 5674, 6780, 5159, 7362, 5650, 7521, 7407, 6895, 7476, 7142, 7197, 7301, 7356, 5748, 5319, 4841, 7326, 7511, 6835, 7329, 4794, 5518, 7375, 6100, 5743, 4868, 5523, 7215, 5140, 5706, 6822, 6936, 4945, 6123, 4752, 7004, 6714, 6852]\n",
      "Community 36: [1099, 5085, 623, 3925, 561, 1178, 3935, 2584, 305, 909, 571, 2902, 2573, 2592, 2559, 1959, 2376, 2375, 2359, 2069, 688, 1871, 1812, 1764, 1726, 1690, 1654, 1621, 677, 1558, 1515, 1492, 1294, 335, 319, 567, 489, 720, 1128, 537, 691, 237, 1033, 1004, 1015, 887, 569, 145, 815, 996, 6303, 6831, 6999, 6792, 5926, 5723, 5475, 5178, 5689, 5718, 5334, 5554, 5849, 5119, 5695, 5853, 5864, 5854, 5288, 5522, 5498, 5731, 5772, 5579, 5472, 5817]\n"
     ]
    },
    {
     "data": {
      "image/png": "[encoded data removed]",
      "text/plain": [
       "<Figure size 432x288 with 1 Axes>"
      ]
     },
     "metadata": {
      "needs_background": "light"
     },
     "output_type": "display_data"
    },
    {
     "name": "stdout",
     "output_type": "stream",
     "text": [
      "The modularity of the network is 0.804975\n"
     ]
    },
    {
     "data": {
      "text/plain": [
       "<Figure size 432x288 with 0 Axes>"
      ]
     },
     "metadata": {},
     "output_type": "display_data"
    }
   ],
   "source": [
    "## 강원도 파일로 돌린거\n",
    "\n",
    "import snap\n",
    "import matplotlib.pyplot as plt\n",
    "\n",
    "# 그래프 만들기\n",
    "G1 = snap.LoadEdgeList(snap.PUNGraph, \"gw_start_end.txt\", 0, 1) # PUNGraph -> 다른걸로 조정가능한듯?\n",
    "\n",
    "print(\"G1: Nodes %d, Edges %d\" % (G1.GetNodes(), G1.GetEdges()))\n",
    "print(\"Number of Nodes: %d\" % G1.GetNodes())\n",
    "\n",
    "# 1.6 number of nodes of zero degree\n",
    "print(\"Number of nodes of zero degree: %d\" % snap.CntDegNodes(G1, 0))\n",
    "\n",
    "# Get in degree distribution(분포정도)\n",
    "\n",
    "DegToCntV = snap.TIntPrV() # DegToCntV: A vector of (degree, number of nodes of such degree) pairs.\n",
    "snap.GetDegCnt(G1, DegToCntV) # GetDegCnt(Graph, DegToCntV)\n",
    "degree = []\n",
    "numNodes = []\n",
    "sumDegrees = 0\n",
    "for item in DegToCntV:\n",
    "    degree.append(item.GetVal1())\n",
    "    numNodes.append(item.GetVal2())\n",
    "    sumDegrees += item.GetVal1()*item.GetVal2()\n",
    "    #print(\"%d nodes with in-degree %d\" % (item.GetVal2(), item.GetVal1()))\n",
    "\n",
    "plt.plot(degree, numNodes)\n",
    "plt.yscale('log')\n",
    "plt.xscale('log')\n",
    "plt.ylabel('frequency')\n",
    "plt.xlabel('degree')\n",
    "plt.title('Degree distribution')\n",
    "plt.savefig('degreeDist.png')\n",
    "plt.clf()\n",
    "\n",
    "# Get average degree\n",
    "print(\"Average degree:\", sumDegrees/float(sum(numNodes)))\n",
    "\n",
    "# Get largest strongly connected component\n",
    "MxScc = snap.GetMxScc(G1)\n",
    "print(\"Size of largest strongly connected component:\", MxScc.GetNodes())\n",
    "\n",
    "# Get strongly connected components\n",
    "Components = snap.TCnComV()\n",
    "snap.GetWccs(G1, Components)\n",
    "wcc_sizes = []\n",
    "for CnCom in Components:\n",
    "    wcc_sizes.append(CnCom.Len())\n",
    "\n",
    "print(\"Number of connected components:\", len(wcc_sizes))\n",
    "\n",
    "# Clauset-Newman-Moore community detection\n",
    "CmtyV = snap.TCnComV() # 각 구성 요소는 노드 ID의 TIntV 벡터로 구성됩니다.\n",
    "modularity = snap.CommunityCNM(G1, CmtyV)# CommunityCNM(input, output)\n",
    "\n",
    "count = 0\n",
    "sizes = []\n",
    "communities = []\n",
    "for Cmty in CmtyV:\n",
    "    listcmty = []\n",
    "    for NI in Cmty:\n",
    "        listcmty.append(NI)\n",
    "\n",
    "    communities.append(listcmty)\n",
    "    count += 1\n",
    "    sizes.append(len(listcmty))\n",
    "print(\"Number of communities:\", count)\n",
    "print(\"Largest community:\", max(sizes))\n",
    "print(\"Smallest community:\", min(sizes))\n",
    "print(\"Community 4:\", communities[4])\n",
    "coummunity_11 = communities[11]\n",
    "print(\"Community 11:\", coummunity_11)\n",
    "print(\"Community 21:\", communities[21])\n",
    "print(\"Community 36:\", communities[36])\n",
    "\n",
    "# plot histogram of community sizes\n",
    "sizes.sort()\n",
    "plt.hist(sizes, log=True)\n",
    "plt.xlabel(\"Size of community\")\n",
    "plt.ylabel(\"Number of communities\")\n",
    "plt.title(\"Sizes of CNM communities\")\n",
    "plt.show()\n",
    "plt.savefig(\"cnm-sizes.png\")\n",
    "#print(\"Size of communities:\", sizes)\n",
    "print(\"The modularity of the network is %f\" % modularity)"
   ]
  }
 ],
 "metadata": {
  "kernelspec": {
   "display_name": "Python 3",
   "language": "python",
   "name": "python3"
  },
  "language_info": {
   "codemirror_mode": {
    "name": "ipython",
    "version": 3
   },
   "file_extension": ".py",
   "mimetype": "text/x-python",
   "name": "python",
   "nbconvert_exporter": "python",
   "pygments_lexer": "ipython3",
   "version": "3.7.6"
  }
 },
 "nbformat": 4,
 "nbformat_minor": 4
}
