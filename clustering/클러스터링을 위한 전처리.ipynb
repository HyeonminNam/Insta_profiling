{
 "cells": [
  {
   "cell_type": "markdown",
   "metadata": {},
   "source": [
    "# snap모델에 적용하기 위한 데이터 전처리\n",
    "- center_user를 중심으로 수집된 id목록에서 각각의 id들에 고유인덱스 붙여주기\n",
    "- {id : id_index} 사전생성 -> id에 매칭하는 id_index를 snap에서 input data로 활용"
   ]
  },
  {
   "cell_type": "code",
   "execution_count": 2,
   "metadata": {},
   "outputs": [],
   "source": [
    "import pandas as pd\n",
    "import numpy as np"
   ]
  },
  {
   "cell_type": "code",
   "execution_count": 3,
   "metadata": {},
   "outputs": [],
   "source": [
    "sd_df = pd.read_csv(r'C:\\Users\\haech\\sd_relation_2.csv')\n",
    "gw_df = pd.read_csv(r'C:\\Users\\haech\\gw_relation_2.csv')\n",
    "cc_df = pd.read_csv(r'C:\\Users\\haech\\cc_relation_2.csv')\n",
    "jl_df = pd.read_csv(r'C:\\Users\\haech\\jl_relation_2.csv')\n",
    "gs_df = pd.read_csv(r'C:\\Users\\haech\\gs_relation_2.csv')"
   ]
  },
  {
   "cell_type": "code",
   "execution_count": 4,
   "metadata": {},
   "outputs": [],
   "source": [
    "def create_id_lst(df):\n",
    "    # start칼럼 추출\n",
    "    start_df = df.drop('end', axis =1)\n",
    "    start_ls = list(np.unique(start_df))\n",
    "\n",
    "    # end칼럼 추출\n",
    "    end_df = df.drop('start', axis =1)\n",
    "    end_ls = list(np.unique(end_df))\n",
    "\n",
    "    id_ls = start_ls + end_ls\n",
    "    return id_ls"
   ]
  },
  {
   "cell_type": "code",
   "execution_count": 7,
   "metadata": {},
   "outputs": [],
   "source": [
    "sd_id_ls = create_id_lst(sd_df)\n",
    "gw_id_ls = create_id_lst(gw_df)\n",
    "cc_id_ls = create_id_lst(cc_df)\n",
    "jl_id_ls = create_id_lst(jl_df)\n",
    "gs_id_ls = create_id_lst(gs_df)"
   ]
  },
  {
   "cell_type": "markdown",
   "metadata": {},
   "source": [
    "## {id : idx} 사전 생성"
   ]
  },
  {
   "cell_type": "code",
   "execution_count": 10,
   "metadata": {},
   "outputs": [],
   "source": [
    "from collections import defaultdict"
   ]
  },
  {
   "cell_type": "code",
   "execution_count": 11,
   "metadata": {},
   "outputs": [],
   "source": [
    "def id_to_dict(id_ls):\n",
    "    #고유 id와 인덱스를 매칭시켜주는 사전 생성\n",
    "    id2idx_dic = defaultdict(lambda: len(id2idx_dic))\n",
    "\n",
    "    for ide in id_ls:\n",
    "        id2idx_dic[ide]\n",
    "\n",
    "    for i, v in enumerate(id_ls):\n",
    "        index = id2idx_dic[v]\n",
    "        \n",
    "    return id2idx_dic"
   ]
  },
  {
   "cell_type": "code",
   "execution_count": 12,
   "metadata": {},
   "outputs": [],
   "source": [
    "sd_id2idx_dic = id_to_dict(sd_id_ls)\n",
    "gw_id2idx_dic = id_to_dict(gw_id_ls)\n",
    "cc_id2idx_dic = id_to_dict(cc_id_ls)\n",
    "jl_id2idx_dic = id_to_dict(jl_id_ls)\n",
    "gs_id2idx_dic = id_to_dict(gs_id_ls)"
   ]
  },
  {
   "cell_type": "code",
   "execution_count": 13,
   "metadata": {
    "scrolled": true
   },
   "outputs": [
    {
     "name": "stdout",
     "output_type": "stream",
     "text": [
      "2628 2032 752 50 2763\n"
     ]
    }
   ],
   "source": [
    "print(len(sd_id2idx_dic), len(gw_id2idx_dic), len(cc_id2idx_dic), len(jl_id2idx_dic), len(gs_id2idx_dic))"
   ]
  },
  {
   "cell_type": "markdown",
   "metadata": {},
   "source": [
    "## id를 사전에서 매칭되는 index값으로 변경\n",
    "- id -> index값으로 변경한 후, start와 end를 txt파일로 저장하기"
   ]
  },
  {
   "cell_type": "code",
   "execution_count": 14,
   "metadata": {},
   "outputs": [],
   "source": [
    "def id2index(df, id2idx_dic):\n",
    "    for i,v in enumerate(df['start']):\n",
    "        for (key, elem) in id2idx_dic.items():\n",
    "            if v == key:\n",
    "                df['start'][i] = elem\n",
    "                \n",
    "    for i,v in enumerate(df['end']):\n",
    "        for (key, elem) in id2idx_dic.items():\n",
    "            if v == key:\n",
    "                df['end'][i] = elem\n",
    "            \n",
    "    return df"
   ]
  },
  {
   "cell_type": "code",
   "execution_count": 15,
   "metadata": {},
   "outputs": [],
   "source": [
    "sd_idx_df = id2index(sd_df, sd_id2idx_dic)\n",
    "gw_idx_df = id2index(gw_df, gw_id2idx_dic)\n",
    "cc_idx_df = id2index(cc_df, cc_id2idx_dic)\n",
    "jl_idx_df = id2index(jl_df, jl_id2idx_dic)\n",
    "gs_idx_df = id2index(gs_df, gs_id2idx_dic)"
   ]
  },
  {
   "cell_type": "code",
   "execution_count": 21,
   "metadata": {},
   "outputs": [],
   "source": [
    "sd_idx_df.drop(['Unnamed: 0'], axis=1, inplace=True)\n",
    "gw_idx_df.drop(['Unnamed: 0'], axis=1, inplace=True)\n",
    "cc_idx_df.drop(['Unnamed: 0'], axis=1, inplace=True)\n",
    "jl_idx_df.drop(['Unnamed: 0'], axis=1, inplace=True)\n",
    "gs_idx_df.drop(['Unnamed: 0'], axis=1, inplace=True)"
   ]
  },
  {
   "cell_type": "code",
   "execution_count": 27,
   "metadata": {},
   "outputs": [],
   "source": [
    "sd_idx_df.to_csv('sd_start_end.txt', index=False, header=None, sep=\"\\t\")\n",
    "gw_idx_df.to_csv('gw_start_end.txt', index=False, header=None, sep=\"\\t\")\n",
    "cc_idx_df.to_csv('cc_start_end.txt', index=False, header=None, sep=\"\\t\")\n",
    "jl_idx_df.to_csv('jl_start_end.txt', index=False, header=None, sep=\"\\t\")\n",
    "gs_idx_df.to_csv('gs_start_end.txt', index=False, header=None, sep=\"\\t\")"
   ]
  },
  {
   "cell_type": "markdown",
   "metadata": {},
   "source": [
    "## 커뮤니티 리스트의 index를 다시 id로 변환"
   ]
  },
  {
   "cell_type": "code",
   "execution_count": 72,
   "metadata": {},
   "outputs": [
    {
     "data": {
      "text/plain": [
       "142"
      ]
     },
     "execution_count": 72,
     "metadata": {},
     "output_type": "execute_result"
    }
   ],
   "source": [
    "Community_11 = [6121, 5092, 2084, 1688, 7186, 6340, 7597, 6544, 5110, 5914, 6087, 6381, 2576,\n",
    "               4657, 4658, 3880, 784, 4631, 4581, 4378, 1214, 4364, 4257, 1087, 4063, 602, 3215,\n",
    "               1600, 3698, 1864, 3558, 2811, 3498, 3183, 1209, 3279, 1607, 1066, 828, 1522, 1789,\n",
    "               2501, 2346, 2221, 855, 1992, 1972, 1293, 1776, 1896, 5645, 7052, 7205, 7622, 6141,\n",
    "               5870, 5923, 7536, 7139, 5240, 6085, 6680, 7227, 6138, 5209, 5569, 7469, 7260, 6054,\n",
    "               5666, 5485, 6327, 5792, 6696, 6251, 6318, 7351, 6241, 6117, 6660, 6162, 7271, 7003,\n",
    "               6918, 6570, 7437, 7235, 6000, 5676, 7135, 5661, 5702, 6289, 5543, 6860, 6345, 5759,\n",
    "               5550, 5210, 6446, 6836, 5345, 7192, 7189, 6874, 7105, 6940, 6031, 5104, 6848, 5397,\n",
    "               5282, 5097, 6685, 5919, 6463, 5628, 6844, 6198, 6083, 5760, 5326, 6346, 6295, 5640,\n",
    "               5328, 6538, 5117, 4750, 5122, 4748, 5065, 6134, 1616, 5570, 6265, 5794, 6161, 5382,\n",
    "               5171, 6172, 5338]\n",
    "len(Community_11)"
   ]
  },
  {
   "cell_type": "code",
   "execution_count": 73,
   "metadata": {},
   "outputs": [],
   "source": [
    "def transform_id(ls, dictionary):\n",
    "    for i,idx in enumerate(ls):\n",
    "        for (key, elem) in dictionary.items():\n",
    "            if idx == elem:\n",
    "                ls[i] = key\n",
    "    return ls"
   ]
  },
  {
   "cell_type": "code",
   "execution_count": 74,
   "metadata": {},
   "outputs": [
    {
     "data": {
      "text/plain": [
       "[2107411892,\n",
       " 494549561,\n",
       " 3544466817,\n",
       " 2427499074,\n",
       " 8143941921,\n",
       " 2920560812,\n",
       " 29471359997,\n",
       " 3797542433,\n",
       " 532606451,\n",
       " 1773729536,\n",
       " 2067777795,\n",
       " 3030430463,\n",
       " 4803416099,\n",
       " 37929419203,\n",
       " 37952417331,\n",
       " 10705124203,\n",
       " 1552091689,\n",
       " 36325953798,\n",
       " 33513192535,\n",
       " 25472301160,\n",
       " 1958859433,\n",
       " 24805113155,\n",
       " 19111152891,\n",
       " 1773493550,\n",
       " 13265448452,\n",
       " 1443263155,\n",
       " 7120750999,\n",
       " 2298701655,\n",
       " 8791125347,\n",
       " 3071585233,\n",
       " 8429067064,\n",
       " 5747895992,\n",
       " 8205955183,\n",
       " 7023452561,\n",
       " 1956471396,\n",
       " 7389269895,\n",
       " 2305676287,\n",
       " 1751495837,\n",
       " 1571118949,\n",
       " 2252442444,\n",
       " 2945790184,\n",
       " 4619390001,\n",
       " 4188291969,\n",
       " 3951410066,\n",
       " 1595218661,\n",
       " 3261853870,\n",
       " 3239043960,\n",
       " 2023927618,\n",
       " 2930442996,\n",
       " 3111939252,\n",
       " 1507979106,\n",
       " 7134502094,\n",
       " 8272341489,\n",
       " 31446261160,\n",
       " 2130531223,\n",
       " 1723077843,\n",
       " 1785148860,\n",
       " 22081457271,\n",
       " 7791578310,\n",
       " 904407922,\n",
       " 2065956624,\n",
       " 4459284299,\n",
       " 8493323021,\n",
       " 2127258743,\n",
       " 745012853,\n",
       " 1450229153,\n",
       " 16940403748,\n",
       " 8931052947,\n",
       " 2032465180,\n",
       " 1522771941,\n",
       " 1416240305,\n",
       " 2865869343,\n",
       " 1635461735,\n",
       " 4550136434,\n",
       " 2307331080,\n",
       " 2720409774,\n",
       " 11442854912,\n",
       " 2298081896,\n",
       " 2103418442,\n",
       " 4329641240,\n",
       " 2204336350,\n",
       " 9139813492,\n",
       " 6833999069,\n",
       " 6119440984,\n",
       " 3972047606,\n",
       " 14891710183,\n",
       " 8533508598,\n",
       " 1951535536,\n",
       " 1529515624,\n",
       " 7753180915,\n",
       " 1520758718,\n",
       " 1544451136,\n",
       " 2475299087,\n",
       " 1442239306,\n",
       " 5798583245,\n",
       " 2930239032,\n",
       " 1587512065,\n",
       " 1444784492,\n",
       " 745039200,\n",
       " 3240818176,\n",
       " 5676616709,\n",
       " 1210259945,\n",
       " 8186754865,\n",
       " 8166556509,\n",
       " 5863186705,\n",
       " 7463763449,\n",
       " 6312169697,\n",
       " 1999497300,\n",
       " 523620453,\n",
       " 5746701289,\n",
       " 1313067660,\n",
       " 1072315070,\n",
       " 504890596,\n",
       " 4489774715,\n",
       " 1777081113,\n",
       " 3306694736,\n",
       " 1492118997,\n",
       " 5725064861,\n",
       " 2246319280,\n",
       " 2065350619,\n",
       " 1588655944,\n",
       " 1162450948,\n",
       " 2932733903,\n",
       " 2521579314,\n",
       " 1501612707,\n",
       " 1165013510,\n",
       " 3721024700,\n",
       " 537501571,\n",
       " 1828777,\n",
       " 545774776,\n",
       " 1500342,\n",
       " 451014727,\n",
       " 2122837846,\n",
       " 2313725992,\n",
       " 1450533285,\n",
       " 2327193626,\n",
       " 1638103600,\n",
       " 2200675275,\n",
       " 1289907731,\n",
       " 615329659,\n",
       " 2213750563,\n",
       " 1202004193]"
      ]
     },
     "execution_count": 74,
     "metadata": {},
     "output_type": "execute_result"
    }
   ],
   "source": [
    "transform_id(Community_11, id2idx_dic)"
   ]
  }
 ],
 "metadata": {
  "kernelspec": {
   "display_name": "Python 3",
   "language": "python",
   "name": "python3"
  },
  "language_info": {
   "codemirror_mode": {
    "name": "ipython",
    "version": 3
   },
   "file_extension": ".py",
   "mimetype": "text/x-python",
   "name": "python",
   "nbconvert_exporter": "python",
   "pygments_lexer": "ipython3",
   "version": "3.7.6"
  }
 },
 "nbformat": 4,
 "nbformat_minor": 4
}