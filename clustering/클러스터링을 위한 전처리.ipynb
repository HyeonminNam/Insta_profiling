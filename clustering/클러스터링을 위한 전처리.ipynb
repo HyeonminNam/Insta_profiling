{
 "cells": [
  {
   "cell_type": "markdown",
   "metadata": {},
   "source": [
    "# snap모델에 적용하기 위한 데이터 전처리\n",
    "- center_user를 중심으로 수집된 id목록에서 각각의 id들에 고유인덱스 붙여주기\n",
    "- {id : id_index} 사전생성 -> id에 매칭하는 id_index를 snap에서 input data로 활용"
   ]
  },
  {
   "cell_type": "code",
   "execution_count": 99,
   "metadata": {},
   "outputs": [],
   "source": [
    "import pandas as pd\n",
    "import numpy as np"
   ]
  },
  {
   "cell_type": "code",
   "execution_count": 100,
   "metadata": {},
   "outputs": [],
   "source": [
    "df = pd.read_csv(r'C:\\Users\\haech\\Desktop\\insta_project_data\\gw_2.csv')"
   ]
  },
  {
   "cell_type": "code",
   "execution_count": 101,
   "metadata": {},
   "outputs": [
    {
     "data": {
      "text/html": [
       "<div>\n",
       "<style scoped>\n",
       "    .dataframe tbody tr th:only-of-type {\n",
       "        vertical-align: middle;\n",
       "    }\n",
       "\n",
       "    .dataframe tbody tr th {\n",
       "        vertical-align: top;\n",
       "    }\n",
       "\n",
       "    .dataframe thead th {\n",
       "        text-align: right;\n",
       "    }\n",
       "</style>\n",
       "<table border=\"1\" class=\"dataframe\">\n",
       "  <thead>\n",
       "    <tr style=\"text-align: right;\">\n",
       "      <th></th>\n",
       "      <th>start</th>\n",
       "      <th>end</th>\n",
       "    </tr>\n",
       "  </thead>\n",
       "  <tbody>\n",
       "    <tr>\n",
       "      <th>0</th>\n",
       "      <td>6947073237</td>\n",
       "      <td>13624490327</td>\n",
       "    </tr>\n",
       "    <tr>\n",
       "      <th>1</th>\n",
       "      <td>13624490327</td>\n",
       "      <td>7964987666</td>\n",
       "    </tr>\n",
       "    <tr>\n",
       "      <th>2</th>\n",
       "      <td>4516509236</td>\n",
       "      <td>5681987893</td>\n",
       "    </tr>\n",
       "    <tr>\n",
       "      <th>3</th>\n",
       "      <td>2170592442</td>\n",
       "      <td>5681987893</td>\n",
       "    </tr>\n",
       "    <tr>\n",
       "      <th>4</th>\n",
       "      <td>25228228259</td>\n",
       "      <td>5681987893</td>\n",
       "    </tr>\n",
       "    <tr>\n",
       "      <th>...</th>\n",
       "      <td>...</td>\n",
       "      <td>...</td>\n",
       "    </tr>\n",
       "    <tr>\n",
       "      <th>12904</th>\n",
       "      <td>1465325432</td>\n",
       "      <td>1469939130</td>\n",
       "    </tr>\n",
       "    <tr>\n",
       "      <th>12905</th>\n",
       "      <td>1465325432</td>\n",
       "      <td>1553528493</td>\n",
       "    </tr>\n",
       "    <tr>\n",
       "      <th>12906</th>\n",
       "      <td>1465325432</td>\n",
       "      <td>1595354931</td>\n",
       "    </tr>\n",
       "    <tr>\n",
       "      <th>12907</th>\n",
       "      <td>1465325432</td>\n",
       "      <td>3657930948</td>\n",
       "    </tr>\n",
       "    <tr>\n",
       "      <th>12908</th>\n",
       "      <td>1465325432</td>\n",
       "      <td>3066632485</td>\n",
       "    </tr>\n",
       "  </tbody>\n",
       "</table>\n",
       "<p>12909 rows × 2 columns</p>\n",
       "</div>"
      ],
      "text/plain": [
       "             start          end\n",
       "0       6947073237  13624490327\n",
       "1      13624490327   7964987666\n",
       "2       4516509236   5681987893\n",
       "3       2170592442   5681987893\n",
       "4      25228228259   5681987893\n",
       "...            ...          ...\n",
       "12904   1465325432   1469939130\n",
       "12905   1465325432   1553528493\n",
       "12906   1465325432   1595354931\n",
       "12907   1465325432   3657930948\n",
       "12908   1465325432   3066632485\n",
       "\n",
       "[12909 rows x 2 columns]"
      ]
     },
     "execution_count": 101,
     "metadata": {},
     "output_type": "execute_result"
    }
   ],
   "source": [
    "df"
   ]
  },
  {
   "cell_type": "code",
   "execution_count": 102,
   "metadata": {},
   "outputs": [],
   "source": [
    "# start칼럼 추출\n",
    "start_df = df.drop('end', axis =1)"
   ]
  },
  {
   "cell_type": "code",
   "execution_count": 103,
   "metadata": {},
   "outputs": [
    {
     "data": {
      "text/plain": [
       "4741"
      ]
     },
     "execution_count": 103,
     "metadata": {},
     "output_type": "execute_result"
    }
   ],
   "source": [
    "start_ls = list(np.unique(start_df))\n",
    "len(start_ls)"
   ]
  },
  {
   "cell_type": "code",
   "execution_count": 104,
   "metadata": {},
   "outputs": [],
   "source": [
    "# end칼럼 추출\n",
    "end_df = df.drop('start', axis =1)"
   ]
  },
  {
   "cell_type": "code",
   "execution_count": 105,
   "metadata": {},
   "outputs": [
    {
     "data": {
      "text/plain": [
       "5642"
      ]
     },
     "execution_count": 105,
     "metadata": {},
     "output_type": "execute_result"
    }
   ],
   "source": [
    "end_ls = list(np.unique(end_df))\n",
    "len(end_ls)"
   ]
  },
  {
   "cell_type": "code",
   "execution_count": 106,
   "metadata": {},
   "outputs": [],
   "source": [
    "# unique id목록 list\n",
    "id_ls = start_ls + end_ls\n",
    "id_uni_ls = list(np.unique(id_ls))"
   ]
  },
  {
   "cell_type": "code",
   "execution_count": 107,
   "metadata": {},
   "outputs": [
    {
     "data": {
      "text/plain": [
       "7707"
      ]
     },
     "execution_count": 107,
     "metadata": {},
     "output_type": "execute_result"
    }
   ],
   "source": [
    "len(id_uni_ls)"
   ]
  },
  {
   "cell_type": "markdown",
   "metadata": {},
   "source": [
    "## {id : idx} 사전 생성"
   ]
  },
  {
   "cell_type": "code",
   "execution_count": 108,
   "metadata": {},
   "outputs": [],
   "source": [
    "from collections import defaultdict"
   ]
  },
  {
   "cell_type": "code",
   "execution_count": 109,
   "metadata": {},
   "outputs": [],
   "source": [
    "def id_to_dict(id_ls):\n",
    "    #고유 id와 인덱스를 매칭시켜주는 사전 생성\n",
    "    id2idx_dic = defaultdict(lambda: len(id2idx_dic))\n",
    "\n",
    "    for ide in id_ls:\n",
    "        id2idx_dic[ide]\n",
    "\n",
    "    for i, v in enumerate(id_ls):\n",
    "        index = id2idx_dic[v]"
   ]
  },
  {
   "cell_type": "code",
   "execution_count": 110,
   "metadata": {},
   "outputs": [],
   "source": [
    "id_to_dict(id_ls)"
   ]
  },
  {
   "cell_type": "code",
   "execution_count": 112,
   "metadata": {
    "scrolled": true
   },
   "outputs": [
    {
     "data": {
      "text/plain": [
       "7707"
      ]
     },
     "execution_count": 112,
     "metadata": {},
     "output_type": "execute_result"
    }
   ],
   "source": [
    "len(id2idx_dic)"
   ]
  },
  {
   "cell_type": "markdown",
   "metadata": {},
   "source": [
    "## id를 사전에서 매칭되는 index값으로 변경\n",
    "- id -> index값으로 변경한 후, start와 end를 txt파일로 저장하기"
   ]
  },
  {
   "cell_type": "code",
   "execution_count": 53,
   "metadata": {},
   "outputs": [
    {
     "data": {
      "text/html": [
       "<div>\n",
       "<style scoped>\n",
       "    .dataframe tbody tr th:only-of-type {\n",
       "        vertical-align: middle;\n",
       "    }\n",
       "\n",
       "    .dataframe tbody tr th {\n",
       "        vertical-align: top;\n",
       "    }\n",
       "\n",
       "    .dataframe thead th {\n",
       "        text-align: right;\n",
       "    }\n",
       "</style>\n",
       "<table border=\"1\" class=\"dataframe\">\n",
       "  <thead>\n",
       "    <tr style=\"text-align: right;\">\n",
       "      <th></th>\n",
       "      <th>start</th>\n",
       "      <th>end</th>\n",
       "    </tr>\n",
       "  </thead>\n",
       "  <tbody>\n",
       "    <tr>\n",
       "      <th>0</th>\n",
       "      <td>6947073237</td>\n",
       "      <td>13624490327</td>\n",
       "    </tr>\n",
       "    <tr>\n",
       "      <th>1</th>\n",
       "      <td>13624490327</td>\n",
       "      <td>7964987666</td>\n",
       "    </tr>\n",
       "    <tr>\n",
       "      <th>2</th>\n",
       "      <td>4516509236</td>\n",
       "      <td>5681987893</td>\n",
       "    </tr>\n",
       "    <tr>\n",
       "      <th>3</th>\n",
       "      <td>2170592442</td>\n",
       "      <td>5681987893</td>\n",
       "    </tr>\n",
       "    <tr>\n",
       "      <th>4</th>\n",
       "      <td>25228228259</td>\n",
       "      <td>5681987893</td>\n",
       "    </tr>\n",
       "    <tr>\n",
       "      <th>...</th>\n",
       "      <td>...</td>\n",
       "      <td>...</td>\n",
       "    </tr>\n",
       "    <tr>\n",
       "      <th>12904</th>\n",
       "      <td>1465325432</td>\n",
       "      <td>1469939130</td>\n",
       "    </tr>\n",
       "    <tr>\n",
       "      <th>12905</th>\n",
       "      <td>1465325432</td>\n",
       "      <td>1553528493</td>\n",
       "    </tr>\n",
       "    <tr>\n",
       "      <th>12906</th>\n",
       "      <td>1465325432</td>\n",
       "      <td>1595354931</td>\n",
       "    </tr>\n",
       "    <tr>\n",
       "      <th>12907</th>\n",
       "      <td>1465325432</td>\n",
       "      <td>3657930948</td>\n",
       "    </tr>\n",
       "    <tr>\n",
       "      <th>12908</th>\n",
       "      <td>1465325432</td>\n",
       "      <td>3066632485</td>\n",
       "    </tr>\n",
       "  </tbody>\n",
       "</table>\n",
       "<p>12909 rows × 2 columns</p>\n",
       "</div>"
      ],
      "text/plain": [
       "             start          end\n",
       "0       6947073237  13624490327\n",
       "1      13624490327   7964987666\n",
       "2       4516509236   5681987893\n",
       "3       2170592442   5681987893\n",
       "4      25228228259   5681987893\n",
       "...            ...          ...\n",
       "12904   1465325432   1469939130\n",
       "12905   1465325432   1553528493\n",
       "12906   1465325432   1595354931\n",
       "12907   1465325432   3657930948\n",
       "12908   1465325432   3066632485\n",
       "\n",
       "[12909 rows x 2 columns]"
      ]
     },
     "execution_count": 53,
     "metadata": {},
     "output_type": "execute_result"
    }
   ],
   "source": [
    "df # 처리 전"
   ]
  },
  {
   "cell_type": "code",
   "execution_count": 70,
   "metadata": {},
   "outputs": [],
   "source": [
    "for i,v in enumerate(df['start']):\n",
    "    for (key, elem) in id2idx_dic.items():\n",
    "        if v == key:\n",
    "            df['start'][i] = elem"
   ]
  },
  {
   "cell_type": "code",
   "execution_count": 72,
   "metadata": {},
   "outputs": [],
   "source": [
    "for i,v in enumerate(df['end']):\n",
    "    for (key, elem) in id2idx_dic.items():\n",
    "        if v == key:\n",
    "            df['end'][i] = elem"
   ]
  },
  {
   "cell_type": "code",
   "execution_count": 73,
   "metadata": {},
   "outputs": [
    {
     "data": {
      "text/html": [
       "<div>\n",
       "<style scoped>\n",
       "    .dataframe tbody tr th:only-of-type {\n",
       "        vertical-align: middle;\n",
       "    }\n",
       "\n",
       "    .dataframe tbody tr th {\n",
       "        vertical-align: top;\n",
       "    }\n",
       "\n",
       "    .dataframe thead th {\n",
       "        text-align: right;\n",
       "    }\n",
       "</style>\n",
       "<table border=\"1\" class=\"dataframe\">\n",
       "  <thead>\n",
       "    <tr style=\"text-align: right;\">\n",
       "      <th></th>\n",
       "      <th>start</th>\n",
       "      <th>end</th>\n",
       "    </tr>\n",
       "  </thead>\n",
       "  <tbody>\n",
       "    <tr>\n",
       "      <th>0</th>\n",
       "      <td>3156</td>\n",
       "      <td>4088</td>\n",
       "    </tr>\n",
       "    <tr>\n",
       "      <th>1</th>\n",
       "      <td>4088</td>\n",
       "      <td>7152</td>\n",
       "    </tr>\n",
       "    <tr>\n",
       "      <th>2</th>\n",
       "      <td>2471</td>\n",
       "      <td>2779</td>\n",
       "    </tr>\n",
       "    <tr>\n",
       "      <th>3</th>\n",
       "      <td>1439</td>\n",
       "      <td>2779</td>\n",
       "    </tr>\n",
       "    <tr>\n",
       "      <th>4</th>\n",
       "      <td>4375</td>\n",
       "      <td>2779</td>\n",
       "    </tr>\n",
       "    <tr>\n",
       "      <th>...</th>\n",
       "      <td>...</td>\n",
       "      <td>...</td>\n",
       "    </tr>\n",
       "    <tr>\n",
       "      <th>12904</th>\n",
       "      <td>642</td>\n",
       "      <td>652</td>\n",
       "    </tr>\n",
       "    <tr>\n",
       "      <th>12905</th>\n",
       "      <td>642</td>\n",
       "      <td>5715</td>\n",
       "    </tr>\n",
       "    <tr>\n",
       "      <th>12906</th>\n",
       "      <td>642</td>\n",
       "      <td>857</td>\n",
       "    </tr>\n",
       "    <tr>\n",
       "      <th>12907</th>\n",
       "      <td>642</td>\n",
       "      <td>2149</td>\n",
       "    </tr>\n",
       "    <tr>\n",
       "      <th>12908</th>\n",
       "      <td>642</td>\n",
       "      <td>6394</td>\n",
       "    </tr>\n",
       "  </tbody>\n",
       "</table>\n",
       "<p>12909 rows × 2 columns</p>\n",
       "</div>"
      ],
      "text/plain": [
       "       start   end\n",
       "0       3156  4088\n",
       "1       4088  7152\n",
       "2       2471  2779\n",
       "3       1439  2779\n",
       "4       4375  2779\n",
       "...      ...   ...\n",
       "12904    642   652\n",
       "12905    642  5715\n",
       "12906    642   857\n",
       "12907    642  2149\n",
       "12908    642  6394\n",
       "\n",
       "[12909 rows x 2 columns]"
      ]
     },
     "execution_count": 73,
     "metadata": {},
     "output_type": "execute_result"
    }
   ],
   "source": [
    "df # 처리 후"
   ]
  },
  {
   "cell_type": "code",
   "execution_count": 74,
   "metadata": {},
   "outputs": [],
   "source": [
    "df.to_csv('gw_start_end.txt', index=False, header=None, sep=\"\\t\")"
   ]
  },
  {
   "cell_type": "markdown",
   "metadata": {},
   "source": [
    "## 커뮤니티 리스트의 index를 다시 id로 변환"
   ]
  },
  {
   "cell_type": "code",
   "execution_count": 84,
   "metadata": {},
   "outputs": [
    {
     "data": {
      "text/plain": [
       "142"
      ]
     },
     "execution_count": 84,
     "metadata": {},
     "output_type": "execute_result"
    }
   ],
   "source": [
    "Community_11 = [6121, 5092, 2084, 1688, 7186, 6340, 7597, 6544, 5110, 5914, 6087, 6381, 2576,\n",
    "               4657, 4658, 3880, 784, 4631, 4581, 4378, 1214, 4364, 4257, 1087, 4063, 602, 3215,\n",
    "               1600, 3698, 1864, 3558, 2811, 3498, 3183, 1209, 3279, 1607, 1066, 828, 1522, 1789,\n",
    "               2501, 2346, 2221, 855, 1992, 1972, 1293, 1776, 1896, 5645, 7052, 7205, 7622, 6141,\n",
    "               5870, 5923, 7536, 7139, 5240, 6085, 6680, 7227, 6138, 5209, 5569, 7469, 7260, 6054,\n",
    "               5666, 5485, 6327, 5792, 6696, 6251, 6318, 7351, 6241, 6117, 6660, 6162, 7271, 7003,\n",
    "               6918, 6570, 7437, 7235, 6000, 5676, 7135, 5661, 5702, 6289, 5543, 6860, 6345, 5759,\n",
    "               5550, 5210, 6446, 6836, 5345, 7192, 7189, 6874, 7105, 6940, 6031, 5104, 6848, 5397,\n",
    "               5282, 5097, 6685, 5919, 6463, 5628, 6844, 6198, 6083, 5760, 5326, 6346, 6295, 5640,\n",
    "               5328, 6538, 5117, 4750, 5122, 4748, 5065, 6134, 1616, 5570, 6265, 5794, 6161, 5382,\n",
    "               5171, 6172, 5338]\n",
    "len(Community_11)"
   ]
  },
  {
   "cell_type": "code",
   "execution_count": 95,
   "metadata": {},
   "outputs": [],
   "source": [
    "def transform_id(ls, dictionary):\n",
    "    for i,idx in enumerate(ls):\n",
    "        for (key, elem) in dictionary.items():\n",
    "            if idx == elem:\n",
    "                ls[i] = key\n",
    "    return ls"
   ]
  },
  {
   "cell_type": "code",
   "execution_count": 98,
   "metadata": {},
   "outputs": [
    {
     "data": {
      "text/plain": [
       "[2107411892,\n",
       " 494549561,\n",
       " 3544466817,\n",
       " 2427499074,\n",
       " 8143941921,\n",
       " 2920560812,\n",
       " 29471359997,\n",
       " 3797542433,\n",
       " 532606451,\n",
       " 1773729536,\n",
       " 2067777795,\n",
       " 3030430463,\n",
       " 4803416099,\n",
       " 37929419203,\n",
       " 37952417331,\n",
       " 10705124203,\n",
       " 1552091689,\n",
       " 36325953798,\n",
       " 33513192535,\n",
       " 25472301160,\n",
       " 1958859433,\n",
       " 24805113155,\n",
       " 19111152891,\n",
       " 1773493550,\n",
       " 13265448452,\n",
       " 1443263155,\n",
       " 7120750999,\n",
       " 2298701655,\n",
       " 8791125347,\n",
       " 3071585233,\n",
       " 8429067064,\n",
       " 5747895992,\n",
       " 8205955183,\n",
       " 7023452561,\n",
       " 1956471396,\n",
       " 7389269895,\n",
       " 2305676287,\n",
       " 1751495837,\n",
       " 1571118949,\n",
       " 2252442444,\n",
       " 2945790184,\n",
       " 4619390001,\n",
       " 4188291969,\n",
       " 3951410066,\n",
       " 1595218661,\n",
       " 3261853870,\n",
       " 3239043960,\n",
       " 2023927618,\n",
       " 2930442996,\n",
       " 3111939252,\n",
       " 1507979106,\n",
       " 7134502094,\n",
       " 8272341489,\n",
       " 31446261160,\n",
       " 2130531223,\n",
       " 1723077843,\n",
       " 1785148860,\n",
       " 22081457271,\n",
       " 7791578310,\n",
       " 904407922,\n",
       " 2065956624,\n",
       " 4459284299,\n",
       " 8493323021,\n",
       " 2127258743,\n",
       " 745012853,\n",
       " 1450229153,\n",
       " 16940403748,\n",
       " 8931052947,\n",
       " 2032465180,\n",
       " 1522771941,\n",
       " 1416240305,\n",
       " 2865869343,\n",
       " 1635461735,\n",
       " 4550136434,\n",
       " 2307331080,\n",
       " 2720409774,\n",
       " 11442854912,\n",
       " 2298081896,\n",
       " 2103418442,\n",
       " 4329641240,\n",
       " 2204336350,\n",
       " 9139813492,\n",
       " 6833999069,\n",
       " 6119440984,\n",
       " 3972047606,\n",
       " 14891710183,\n",
       " 8533508598,\n",
       " 1951535536,\n",
       " 1529515624,\n",
       " 7753180915,\n",
       " 1520758718,\n",
       " 1544451136,\n",
       " 2475299087,\n",
       " 1442239306,\n",
       " 5798583245,\n",
       " 2930239032,\n",
       " 1587512065,\n",
       " 1444784492,\n",
       " 745039200,\n",
       " 3240818176,\n",
       " 5676616709,\n",
       " 1210259945,\n",
       " 8186754865,\n",
       " 8166556509,\n",
       " 5863186705,\n",
       " 7463763449,\n",
       " 6312169697,\n",
       " 1999497300,\n",
       " 523620453,\n",
       " 5746701289,\n",
       " 1313067660,\n",
       " 1072315070,\n",
       " 504890596,\n",
       " 4489774715,\n",
       " 1777081113,\n",
       " 3306694736,\n",
       " 1492118997,\n",
       " 5725064861,\n",
       " 2246319280,\n",
       " 2065350619,\n",
       " 1588655944,\n",
       " 1162450948,\n",
       " 2932733903,\n",
       " 2521579314,\n",
       " 1501612707,\n",
       " 1165013510,\n",
       " 3721024700,\n",
       " 537501571,\n",
       " 1828777,\n",
       " 545774776,\n",
       " 1500342,\n",
       " 451014727,\n",
       " 2122837846,\n",
       " 2313725992,\n",
       " 1450533285,\n",
       " 2327193626,\n",
       " 1638103600,\n",
       " 2200675275,\n",
       " 1289907731,\n",
       " 615329659,\n",
       " 2213750563,\n",
       " 1202004193]"
      ]
     },
     "execution_count": 98,
     "metadata": {},
     "output_type": "execute_result"
    }
   ],
   "source": [
    "transform_id(Community_11, id2idx_dic)"
   ]
  }
 ],
 "metadata": {
  "kernelspec": {
   "display_name": "Python 3",
   "language": "python",
   "name": "python3"
  },
  "language_info": {
   "codemirror_mode": {
    "name": "ipython",
    "version": 3
   },
   "file_extension": ".py",
   "mimetype": "text/x-python",
   "name": "python",
   "nbconvert_exporter": "python",
   "pygments_lexer": "ipython3",
   "version": "3.7.6"
  }
 },
 "nbformat": 4,
 "nbformat_minor": 4
}
